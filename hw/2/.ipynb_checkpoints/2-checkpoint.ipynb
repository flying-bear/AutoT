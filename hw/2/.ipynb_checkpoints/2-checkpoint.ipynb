{
 "cells": [
  {
   "cell_type": "markdown",
   "metadata": {},
   "source": [
    "# Домашнее задание 2. Извлечение коллокаций.\n",
    "\n",
    "При выполнении домашнего задания можно пользоваться тетрадками с семинаров.\n",
    "\n",
    "### Описание задания:\n",
    "\n",
    "1. Скачайте [корпус](https://github.com/sjut/HSE-Compling/blob/master/hw/testset2.txt) текстов, обработайте его с помощью UDPipe, извлеките все группы \n",
    "\"глагол + прямое дополнение, выраженное существительным\" \n",
    "(не учитывайте глаголы, которые встречаются в корпусе менее **50** раз).\n",
    "\n",
    "2. Оцените полученные словосочетания следующими метриками: *log-likelihood*, *dice*, *PMI* (можно использовать `nltk.collocations`). \n",
    "\n",
    "3. Подготовьте \"золотой стандарт\" коллокаций (далее ЗС) для этого корпуса: \n",
    "возьмите словосочетания, которые попадают в топ-100 по всем метрикам,\n",
    "пересеките со [словарем глагольной сочетаемости](https://yadi.sk/d/5WWwOr9ccemcZA).\n",
    "\n",
    "4. Добавьте в ЗС словосочетания из топ-100 , которые не вошли в словарь, но являются коллокациями (если такие есть), объясните свой выбор.\n",
    "\n",
    "5. Оцените ранговую корреляцию (коэффициент Спирмена) результатов по каждой метрике с ЗС. \n",
    "Как это работает, читайте, например, [тут](https://en.wikipedia.org/wiki/Spearman%27s_rank_correlation_coefficient#Example).\n",
    "Можно использовать `scipy.stats.spearmanr`.\n",
    "Опишите ошибки каждой метрики.\n",
    "\n",
    "### Критерии оценки:\n",
    "\n",
    "По 2 балла на каждый пункт.\n",
    "\n",
    "### Формат сдачи задания:\n",
    "\n",
    "Jupyter-notebook на гитхабе.\n",
    "\n",
    "### Дедлайн: \n",
    "\n",
    "26 ноября 2019 10:00мск"
   ]
  },
  {
   "cell_type": "code",
   "execution_count": 255,
   "metadata": {},
   "outputs": [],
   "source": [
    "import nltk\n",
    "\n",
    "from collections import Counter\n",
    "from itertools import chain\n",
    "from nltk import collocations\n",
    "from nltk.parse import DependencyGraph\n",
    "from nltk.tokenize import RegexpTokenizer\n",
    "from pymorphy2 import MorphAnalyzer\n",
    "from scipy.stats import spearmanr"
   ]
  },
  {
   "cell_type": "code",
   "execution_count": 168,
   "metadata": {},
   "outputs": [],
   "source": [
    "m = MorphAnalyzer()\n",
    "tokenizer = RegexpTokenizer(r'\\w+')"
   ]
  },
  {
   "cell_type": "markdown",
   "metadata": {},
   "source": [
    "## 1. Corpus preprocessing"
   ]
  },
  {
   "cell_type": "code",
   "execution_count": 5,
   "metadata": {},
   "outputs": [
    {
     "name": "stderr",
     "output_type": "stream",
     "text": [
      "Loading UDPipe model: done.\n"
     ]
    }
   ],
   "source": [
    "!C:/Users/Lenovo/V/studies/HSE/prog/AutoT/udpipe-1.2.0-bin/bin-win64/udpipe --input horizontal --output conllu \\\n",
    "--tokenize --tag --parse \\\n",
    "C:\\Users\\Lenovo\\V\\studies\\HSE\\prog\\AutoT\\russian-syntagrus-ud-2.4-190531.udpipe \\\n",
    "< corpus.txt > corpus.conllu"
   ]
  },
  {
   "cell_type": "code",
   "execution_count": 7,
   "metadata": {},
   "outputs": [],
   "source": [
    "trees = []\n",
    "\n",
    "with open('corpus.conllu', 'r', encoding='utf-8') as f:\n",
    "    parsed_sents = f.read().split('\\n\\n')\n",
    "\n",
    "    for sent in parsed_sents:\n",
    "        tree = [line for line in sent.split('\\n') if line and line[0] != '#']\n",
    "        trees.append('\\n'.join(tree))"
   ]
  },
  {
   "cell_type": "markdown",
   "metadata": {},
   "source": [
    "**let us find the verbs to filter the rare ones later**"
   ]
  },
  {
   "cell_type": "code",
   "execution_count": 122,
   "metadata": {},
   "outputs": [],
   "source": [
    "verbs = []\n",
    "lemmas = []\n",
    "for tree in trees:\n",
    "    for i in tree.split('\\n'):\n",
    "        line = i.split('\\t')\n",
    "        if len(line) > 3:\n",
    "            if line[3] == \"VERB\":\n",
    "                verbs.append(line[2])\n",
    "            if line[3] != \"PUNCT\":\n",
    "                lemmas.append(line[2])"
   ]
  },
  {
   "cell_type": "code",
   "execution_count": 126,
   "metadata": {},
   "outputs": [
    {
     "data": {
      "text/plain": [
       "'я предложить бы единый Россия объединить в один окно не только депутат но и суд и прокуратура и милиция и собес заявить Ъ член политсовет СПС Борис Надеждин и тогда'"
      ]
     },
     "execution_count": 126,
     "metadata": {},
     "output_type": "execute_result"
    }
   ],
   "source": [
    "' '.join(lemmas[0:30])"
   ]
  },
  {
   "cell_type": "code",
   "execution_count": 42,
   "metadata": {},
   "outputs": [
    {
     "data": {
      "text/plain": [
       "17055"
      ]
     },
     "execution_count": 42,
     "metadata": {},
     "output_type": "execute_result"
    }
   ],
   "source": [
    "len(verbs)"
   ]
  },
  {
   "cell_type": "code",
   "execution_count": 53,
   "metadata": {},
   "outputs": [],
   "source": [
    "verb_counts = Counter(verbs) \n",
    "frequent_verbs = [el for el in verb_counts.elements() if verb_counts[el] >= 50]"
   ]
  },
  {
   "cell_type": "code",
   "execution_count": 54,
   "metadata": {},
   "outputs": [
    {
     "data": {
      "text/plain": [
       "Counter({'заявить': 258,\n",
       "         'подать': 274,\n",
       "         'просить': 144,\n",
       "         'признать': 345,\n",
       "         'стать': 213,\n",
       "         'сообщить': 217,\n",
       "         'обратиться': 139,\n",
       "         'отказаться': 117,\n",
       "         'рассматривать': 99,\n",
       "         'рассказать': 54,\n",
       "         'рассмотреть': 90,\n",
       "         'мочь': 349,\n",
       "         'начаться': 74,\n",
       "         'обвинить': 461,\n",
       "         'решить': 86,\n",
       "         'пытаться': 89,\n",
       "         'использовать': 57,\n",
       "         'напомнить': 97,\n",
       "         'получить': 127,\n",
       "         'передать': 68,\n",
       "         'направить': 105,\n",
       "         'удаться': 61,\n",
       "         'сказать': 98,\n",
       "         'иметь': 94,\n",
       "         'делать': 77,\n",
       "         'обжаловать': 102,\n",
       "         'отказать': 59,\n",
       "         'говорить': 139,\n",
       "         'счесть': 55,\n",
       "         'быть': 136,\n",
       "         'оставить': 61,\n",
       "         'дать': 70,\n",
       "         'удовлетворить': 173,\n",
       "         'вынести': 153,\n",
       "         'требовать': 173,\n",
       "         'являться': 113,\n",
       "         'обвинять': 120,\n",
       "         'принять': 151,\n",
       "         'выплатить': 62,\n",
       "         'назначить': 63,\n",
       "         'постановить': 57,\n",
       "         'обязать': 60,\n",
       "         'принадлежать': 54,\n",
       "         'подтвердить': 91,\n",
       "         'находиться': 117,\n",
       "         'арестовывать': 82,\n",
       "         'доказать': 57,\n",
       "         'предъявить': 97,\n",
       "         'пояснить': 58,\n",
       "         'согласиться': 62,\n",
       "         'взыскать': 63,\n",
       "         'отклонить': 69,\n",
       "         'провести': 63,\n",
       "         'приговорить': 123,\n",
       "         'запретить': 56,\n",
       "         'считать': 152,\n",
       "         'оспаривать': 54,\n",
       "         'нет': 68,\n",
       "         'утверждать': 71,\n",
       "         'пройти': 50,\n",
       "         'связать': 57,\n",
       "         'оспорить': 68,\n",
       "         'объявить': 72,\n",
       "         'оказаться': 62,\n",
       "         'отменить': 83})"
      ]
     },
     "execution_count": 54,
     "metadata": {},
     "output_type": "execute_result"
    }
   ],
   "source": [
    "Counter(frequent_verbs)"
   ]
  },
  {
   "cell_type": "code",
   "execution_count": 55,
   "metadata": {},
   "outputs": [],
   "source": [
    "frequent_verbs = set(frequent_verbs)"
   ]
  },
  {
   "cell_type": "markdown",
   "metadata": {},
   "source": [
    "**let us find verb-noun object pairs**"
   ]
  },
  {
   "cell_type": "code",
   "execution_count": 16,
   "metadata": {},
   "outputs": [],
   "source": [
    "g = DependencyGraph(trees[2], top_relation_label='root')"
   ]
  },
  {
   "cell_type": "code",
   "execution_count": 17,
   "metadata": {},
   "outputs": [
    {
     "name": "stdout",
     "output_type": "stream",
     "text": [
      "(('подал', 'VERB'), 'nummod', ('20', 'NUM'))\n",
      "(('20', 'NUM'), 'flat', ('ноября', 'NOUN'))\n",
      "(('подал', 'VERB'), 'nsubj', ('он', 'PRON'))\n",
      "(('подал', 'VERB'), 'obl', ('суд', 'NOUN'))\n",
      "(('суд', 'NOUN'), 'case', ('в', 'ADP'))\n",
      "(('суд', 'NOUN'), 'amod', ('арбитражный', 'ADJ'))\n",
      "(('суд', 'NOUN'), 'nmod', ('Москвы', 'PROPN'))\n",
      "(('подал', 'VERB'), 'obj', ('иск', 'NOUN'))\n",
      "(('иск', 'NOUN'), 'acl:relcl', ('просит', 'VERB'))\n",
      "(('просит', 'VERB'), 'punct', (',', 'PUNCT'))\n",
      "(('просит', 'VERB'), 'obl', ('котором', 'PRON'))\n",
      "(('котором', 'PRON'), 'case', ('в', 'ADP'))\n",
      "(('просит', 'VERB'), 'xcomp', ('признать', 'VERB'))\n",
      "(('признать', 'VERB'), 'obj', ('договор', 'NOUN'))\n",
      "(('договор', 'NOUN'), 'amod', ('недействительным', 'ADJ'))\n",
      "(('договор', 'NOUN'), 'nmod', ('присоединении', 'NOUN'))\n",
      "(('присоединении', 'NOUN'), 'case', ('о', 'ADP'))\n",
      "(('присоединении', 'NOUN'), 'nmod', ('Импэксбанка', 'PROPN'))\n",
      "(('присоединении', 'NOUN'), 'nmod', ('Райффайзенбанку', 'PROPN'))\n",
      "(('Райффайзенбанку', 'PROPN'), 'case', ('к', 'ADP'))\n",
      "(('подал', 'VERB'), 'punct', ('.', 'PUNCT'))\n"
     ]
    }
   ],
   "source": [
    "for t in g.triples():\n",
    "    print(t)"
   ]
  },
  {
   "cell_type": "code",
   "execution_count": 58,
   "metadata": {},
   "outputs": [
    {
     "name": "stdout",
     "output_type": "stream",
     "text": [
      "подал иск\n",
      "признать договор\n"
     ]
    }
   ],
   "source": [
    "for t in g.triples():\n",
    "    if 'VERB' in t[0] and 'NOUN' in t[2] and t[1] == 'obj':\n",
    "        print(t[0][0], t[2][0])"
   ]
  },
  {
   "cell_type": "code",
   "execution_count": 222,
   "metadata": {},
   "outputs": [],
   "source": [
    "verb_noun_pairs = []\n",
    "strange_trees = []\n",
    "for i, tree in enumerate(trees):\n",
    "    try:\n",
    "        g = DependencyGraph(tree, top_relation_label='root')\n",
    "        for t in g.triples():\n",
    "            if 'VERB' in t[0] and 'NOUN' in t[2] and t[1] == 'obj':\n",
    "                if t[0][0] in frequent_verbs:\n",
    "                    verb_noun_pairs.append((t[0][0], t[2][0]))\n",
    "    except (TypeError, AssertionError):\n",
    "        strange_trees.append(tree)"
   ]
  },
  {
   "cell_type": "code",
   "execution_count": 223,
   "metadata": {
    "scrolled": true
   },
   "outputs": [
    {
     "data": {
      "text/plain": [
       "[('дать', 'возможность'),\n",
       " ('взыскать', 'задолженность'),\n",
       " ('обжаловать', 'решение'),\n",
       " ('получить', 'средства'),\n",
       " ('предъявить', 'обвинение'),\n",
       " ('получить', 'комментарии'),\n",
       " ('получить', 'комментарии'),\n",
       " ('обжаловать', 'решение'),\n",
       " ('дать', 'показания'),\n",
       " ('признать', 'организацию')]"
      ]
     },
     "execution_count": 223,
     "metadata": {},
     "output_type": "execute_result"
    }
   ],
   "source": [
    "verb_noun_pairs[10:20]"
   ]
  },
  {
   "cell_type": "code",
   "execution_count": 226,
   "metadata": {},
   "outputs": [],
   "source": [
    "verb_noun_pairs = [(m.parse(pair[0])[0].normal_form, m.parse(pair[1])[0].normal_form) for pair in verb_noun_pairs]"
   ]
  },
  {
   "cell_type": "code",
   "execution_count": 227,
   "metadata": {},
   "outputs": [
    {
     "data": {
      "text/plain": [
       "[('дать', 'возможность'),\n",
       " ('взыскать', 'задолженность'),\n",
       " ('обжаловать', 'решение'),\n",
       " ('получить', 'средство'),\n",
       " ('предъявить', 'обвинение'),\n",
       " ('получить', 'комментарий'),\n",
       " ('получить', 'комментарий'),\n",
       " ('обжаловать', 'решение'),\n",
       " ('дать', 'показание'),\n",
       " ('признать', 'организация')]"
      ]
     },
     "execution_count": 227,
     "metadata": {},
     "output_type": "execute_result"
    }
   ],
   "source": [
    "verb_noun_pairs[10:20]"
   ]
  },
  {
   "cell_type": "code",
   "execution_count": 224,
   "metadata": {},
   "outputs": [
    {
     "data": {
      "text/plain": [
       "445"
      ]
     },
     "execution_count": 224,
     "metadata": {},
     "output_type": "execute_result"
    }
   ],
   "source": [
    "len(verb_noun_pairs)"
   ]
  },
  {
   "cell_type": "code",
   "execution_count": 228,
   "metadata": {},
   "outputs": [
    {
     "ename": "AssertionError",
     "evalue": "",
     "output_type": "error",
     "traceback": [
      "\u001b[1;31m---------------------------------------------------------------------------\u001b[0m",
      "\u001b[1;31mAssertionError\u001b[0m                            Traceback (most recent call last)",
      "\u001b[1;32m<ipython-input-228-777890532308>\u001b[0m in \u001b[0;36m<module>\u001b[1;34m\u001b[0m\n\u001b[1;32m----> 1\u001b[1;33m \u001b[0mDependencyGraph\u001b[0m\u001b[1;33m(\u001b[0m\u001b[0mstrange_trees\u001b[0m\u001b[1;33m[\u001b[0m\u001b[1;36m0\u001b[0m\u001b[1;33m]\u001b[0m\u001b[1;33m,\u001b[0m \u001b[0mtop_relation_label\u001b[0m\u001b[1;33m=\u001b[0m\u001b[1;34m'root'\u001b[0m\u001b[1;33m)\u001b[0m\u001b[1;33m\u001b[0m\u001b[1;33m\u001b[0m\u001b[0m\n\u001b[0m",
      "\u001b[1;32mc:\\users\\lenovo\\appdata\\local\\programs\\python\\python36\\lib\\site-packages\\nltk\\parse\\dependencygraph.py\u001b[0m in \u001b[0;36m__init__\u001b[1;34m(self, tree_str, cell_extractor, zero_based, cell_separator, top_relation_label)\u001b[0m\n\u001b[0;32m     88\u001b[0m                 \u001b[0mzero_based\u001b[0m\u001b[1;33m=\u001b[0m\u001b[0mzero_based\u001b[0m\u001b[1;33m,\u001b[0m\u001b[1;33m\u001b[0m\u001b[1;33m\u001b[0m\u001b[0m\n\u001b[0;32m     89\u001b[0m                 \u001b[0mcell_separator\u001b[0m\u001b[1;33m=\u001b[0m\u001b[0mcell_separator\u001b[0m\u001b[1;33m,\u001b[0m\u001b[1;33m\u001b[0m\u001b[1;33m\u001b[0m\u001b[0m\n\u001b[1;32m---> 90\u001b[1;33m                 \u001b[0mtop_relation_label\u001b[0m\u001b[1;33m=\u001b[0m\u001b[0mtop_relation_label\u001b[0m\u001b[1;33m,\u001b[0m\u001b[1;33m\u001b[0m\u001b[1;33m\u001b[0m\u001b[0m\n\u001b[0m\u001b[0;32m     91\u001b[0m             )\n\u001b[0;32m     92\u001b[0m \u001b[1;33m\u001b[0m\u001b[0m\n",
      "\u001b[1;32mc:\\users\\lenovo\\appdata\\local\\programs\\python\\python36\\lib\\site-packages\\nltk\\parse\\dependencygraph.py\u001b[0m in \u001b[0;36m_parse\u001b[1;34m(self, input_, cell_extractor, zero_based, cell_separator, top_relation_label)\u001b[0m\n\u001b[0;32m    345\u001b[0m                 \u001b[0mcell_number\u001b[0m \u001b[1;33m=\u001b[0m \u001b[0mlen\u001b[0m\u001b[1;33m(\u001b[0m\u001b[0mcells\u001b[0m\u001b[1;33m)\u001b[0m\u001b[1;33m\u001b[0m\u001b[1;33m\u001b[0m\u001b[0m\n\u001b[0;32m    346\u001b[0m             \u001b[1;32melse\u001b[0m\u001b[1;33m:\u001b[0m\u001b[1;33m\u001b[0m\u001b[1;33m\u001b[0m\u001b[0m\n\u001b[1;32m--> 347\u001b[1;33m                 \u001b[1;32massert\u001b[0m \u001b[0mcell_number\u001b[0m \u001b[1;33m==\u001b[0m \u001b[0mlen\u001b[0m\u001b[1;33m(\u001b[0m\u001b[0mcells\u001b[0m\u001b[1;33m)\u001b[0m\u001b[1;33m\u001b[0m\u001b[1;33m\u001b[0m\u001b[0m\n\u001b[0m\u001b[0;32m    348\u001b[0m \u001b[1;33m\u001b[0m\u001b[0m\n\u001b[0;32m    349\u001b[0m             \u001b[1;32mif\u001b[0m \u001b[0mcell_extractor\u001b[0m \u001b[1;32mis\u001b[0m \u001b[1;32mNone\u001b[0m\u001b[1;33m:\u001b[0m\u001b[1;33m\u001b[0m\u001b[1;33m\u001b[0m\u001b[0m\n",
      "\u001b[1;31mAssertionError\u001b[0m: "
     ]
    }
   ],
   "source": [
    "DependencyGraph(strange_trees[0], top_relation_label='root')"
   ]
  },
  {
   "cell_type": "code",
   "execution_count": 229,
   "metadata": {},
   "outputs": [
    {
     "ename": "Exception",
     "evalue": "Cannot find the dot binary from Graphviz package",
     "output_type": "error",
     "traceback": [
      "\u001b[1;31m---------------------------------------------------------------------------\u001b[0m",
      "\u001b[1;31mFileNotFoundError\u001b[0m                         Traceback (most recent call last)",
      "\u001b[1;32mc:\\users\\lenovo\\appdata\\local\\programs\\python\\python36\\lib\\site-packages\\nltk\\parse\\dependencygraph.py\u001b[0m in \u001b[0;36m_repr_svg_\u001b[1;34m(self)\u001b[0m\n\u001b[0;32m    212\u001b[0m                 \u001b[0mstderr\u001b[0m\u001b[1;33m=\u001b[0m\u001b[0msubprocess\u001b[0m\u001b[1;33m.\u001b[0m\u001b[0mPIPE\u001b[0m\u001b[1;33m,\u001b[0m\u001b[1;33m\u001b[0m\u001b[1;33m\u001b[0m\u001b[0m\n\u001b[1;32m--> 213\u001b[1;33m                 \u001b[0muniversal_newlines\u001b[0m\u001b[1;33m=\u001b[0m\u001b[1;32mTrue\u001b[0m\u001b[1;33m,\u001b[0m\u001b[1;33m\u001b[0m\u001b[1;33m\u001b[0m\u001b[0m\n\u001b[0m\u001b[0;32m    214\u001b[0m             )\n",
      "\u001b[1;32mc:\\users\\lenovo\\appdata\\local\\programs\\python\\python36\\lib\\subprocess.py\u001b[0m in \u001b[0;36m__init__\u001b[1;34m(self, args, bufsize, executable, stdin, stdout, stderr, preexec_fn, close_fds, shell, cwd, env, universal_newlines, startupinfo, creationflags, restore_signals, start_new_session, pass_fds, encoding, errors)\u001b[0m\n\u001b[0;32m    708\u001b[0m                                 \u001b[0merrread\u001b[0m\u001b[1;33m,\u001b[0m \u001b[0merrwrite\u001b[0m\u001b[1;33m,\u001b[0m\u001b[1;33m\u001b[0m\u001b[1;33m\u001b[0m\u001b[0m\n\u001b[1;32m--> 709\u001b[1;33m                                 restore_signals, start_new_session)\n\u001b[0m\u001b[0;32m    710\u001b[0m         \u001b[1;32mexcept\u001b[0m\u001b[1;33m:\u001b[0m\u001b[1;33m\u001b[0m\u001b[1;33m\u001b[0m\u001b[0m\n",
      "\u001b[1;32mc:\\users\\lenovo\\appdata\\local\\programs\\python\\python36\\lib\\subprocess.py\u001b[0m in \u001b[0;36m_execute_child\u001b[1;34m(self, args, executable, preexec_fn, close_fds, pass_fds, cwd, env, startupinfo, creationflags, shell, p2cread, p2cwrite, c2pread, c2pwrite, errread, errwrite, unused_restore_signals, unused_start_new_session)\u001b[0m\n\u001b[0;32m    996\u001b[0m                                          \u001b[0mos\u001b[0m\u001b[1;33m.\u001b[0m\u001b[0mfspath\u001b[0m\u001b[1;33m(\u001b[0m\u001b[0mcwd\u001b[0m\u001b[1;33m)\u001b[0m \u001b[1;32mif\u001b[0m \u001b[0mcwd\u001b[0m \u001b[1;32mis\u001b[0m \u001b[1;32mnot\u001b[0m \u001b[1;32mNone\u001b[0m \u001b[1;32melse\u001b[0m \u001b[1;32mNone\u001b[0m\u001b[1;33m,\u001b[0m\u001b[1;33m\u001b[0m\u001b[1;33m\u001b[0m\u001b[0m\n\u001b[1;32m--> 997\u001b[1;33m                                          startupinfo)\n\u001b[0m\u001b[0;32m    998\u001b[0m             \u001b[1;32mfinally\u001b[0m\u001b[1;33m:\u001b[0m\u001b[1;33m\u001b[0m\u001b[1;33m\u001b[0m\u001b[0m\n",
      "\u001b[1;31mFileNotFoundError\u001b[0m: [WinError 2] Не удается найти указанный файл",
      "\nDuring handling of the above exception, another exception occurred:\n",
      "\u001b[1;31mException\u001b[0m                                 Traceback (most recent call last)",
      "\u001b[1;32mc:\\users\\lenovo\\appdata\\local\\programs\\python\\python36\\lib\\site-packages\\IPython\\core\\formatters.py\u001b[0m in \u001b[0;36m__call__\u001b[1;34m(self, obj)\u001b[0m\n\u001b[0;32m    343\u001b[0m             \u001b[0mmethod\u001b[0m \u001b[1;33m=\u001b[0m \u001b[0mget_real_method\u001b[0m\u001b[1;33m(\u001b[0m\u001b[0mobj\u001b[0m\u001b[1;33m,\u001b[0m \u001b[0mself\u001b[0m\u001b[1;33m.\u001b[0m\u001b[0mprint_method\u001b[0m\u001b[1;33m)\u001b[0m\u001b[1;33m\u001b[0m\u001b[1;33m\u001b[0m\u001b[0m\n\u001b[0;32m    344\u001b[0m             \u001b[1;32mif\u001b[0m \u001b[0mmethod\u001b[0m \u001b[1;32mis\u001b[0m \u001b[1;32mnot\u001b[0m \u001b[1;32mNone\u001b[0m\u001b[1;33m:\u001b[0m\u001b[1;33m\u001b[0m\u001b[1;33m\u001b[0m\u001b[0m\n\u001b[1;32m--> 345\u001b[1;33m                 \u001b[1;32mreturn\u001b[0m \u001b[0mmethod\u001b[0m\u001b[1;33m(\u001b[0m\u001b[1;33m)\u001b[0m\u001b[1;33m\u001b[0m\u001b[1;33m\u001b[0m\u001b[0m\n\u001b[0m\u001b[0;32m    346\u001b[0m             \u001b[1;32mreturn\u001b[0m \u001b[1;32mNone\u001b[0m\u001b[1;33m\u001b[0m\u001b[1;33m\u001b[0m\u001b[0m\n\u001b[0;32m    347\u001b[0m         \u001b[1;32melse\u001b[0m\u001b[1;33m:\u001b[0m\u001b[1;33m\u001b[0m\u001b[1;33m\u001b[0m\u001b[0m\n",
      "\u001b[1;32mc:\\users\\lenovo\\appdata\\local\\programs\\python\\python36\\lib\\site-packages\\nltk\\parse\\dependencygraph.py\u001b[0m in \u001b[0;36m_repr_svg_\u001b[1;34m(self)\u001b[0m\n\u001b[0;32m    214\u001b[0m             )\n\u001b[0;32m    215\u001b[0m         \u001b[1;32mexcept\u001b[0m \u001b[0mOSError\u001b[0m\u001b[1;33m:\u001b[0m\u001b[1;33m\u001b[0m\u001b[1;33m\u001b[0m\u001b[0m\n\u001b[1;32m--> 216\u001b[1;33m             \u001b[1;32mraise\u001b[0m \u001b[0mException\u001b[0m\u001b[1;33m(\u001b[0m\u001b[1;34m'Cannot find the dot binary from Graphviz package'\u001b[0m\u001b[1;33m)\u001b[0m\u001b[1;33m\u001b[0m\u001b[1;33m\u001b[0m\u001b[0m\n\u001b[0m\u001b[0;32m    217\u001b[0m         \u001b[0mout\u001b[0m\u001b[1;33m,\u001b[0m \u001b[0merr\u001b[0m \u001b[1;33m=\u001b[0m \u001b[0mprocess\u001b[0m\u001b[1;33m.\u001b[0m\u001b[0mcommunicate\u001b[0m\u001b[1;33m(\u001b[0m\u001b[0mdot_string\u001b[0m\u001b[1;33m)\u001b[0m\u001b[1;33m\u001b[0m\u001b[1;33m\u001b[0m\u001b[0m\n\u001b[0;32m    218\u001b[0m         \u001b[1;32mif\u001b[0m \u001b[0merr\u001b[0m\u001b[1;33m:\u001b[0m\u001b[1;33m\u001b[0m\u001b[1;33m\u001b[0m\u001b[0m\n",
      "\u001b[1;31mException\u001b[0m: Cannot find the dot binary from Graphviz package"
     ]
    },
    {
     "data": {
      "text/plain": [
       "<DependencyGraph with 1 nodes>"
      ]
     },
     "execution_count": 229,
     "metadata": {},
     "output_type": "execute_result"
    }
   ],
   "source": [
    "DependencyGraph(strange_trees[17], top_relation_label='root')"
   ]
  },
  {
   "cell_type": "markdown",
   "metadata": {},
   "source": [
    "## 2. Collocation extraction"
   ]
  },
  {
   "cell_type": "code",
   "execution_count": 145,
   "metadata": {},
   "outputs": [],
   "source": [
    "def normalize(text):\n",
    "    tokens = tokenizer.tokenize(text.lower())\n",
    "    lemmas = [m.parse(t)[0].normal_form for t in tokens]\n",
    "    return lemmas"
   ]
  },
  {
   "cell_type": "code",
   "execution_count": 166,
   "metadata": {
    "scrolled": true
   },
   "outputs": [],
   "source": [
    "text = 'Учёная степень — степень квалификационной системы в науке, позволяющей ранжировать научных деятелей на отдельных этапах академической карьеры.'"
   ]
  },
  {
   "cell_type": "code",
   "execution_count": 190,
   "metadata": {
    "scrolled": true
   },
   "outputs": [
    {
     "name": "stdout",
     "output_type": "stream",
     "text": [
      "Help on BigramCollocationFinder in module nltk.collocations object:\n",
      "\n",
      "class BigramCollocationFinder(AbstractCollocationFinder)\n",
      " |  A tool for the finding and ranking of bigram collocations or other\n",
      " |  association measures. It is often useful to use from_words() rather than\n",
      " |  constructing an instance directly.\n",
      " |  \n",
      " |  Method resolution order:\n",
      " |      BigramCollocationFinder\n",
      " |      AbstractCollocationFinder\n",
      " |      builtins.object\n",
      " |  \n",
      " |  Methods defined here:\n",
      " |  \n",
      " |  __init__(self, word_fd, bigram_fd, window_size=2)\n",
      " |      Construct a BigramCollocationFinder, given FreqDists for\n",
      " |      appearances of words and (possibly non-contiguous) bigrams.\n",
      " |  \n",
      " |  score_ngram(self, score_fn, w1, w2)\n",
      " |      Returns the score for a given bigram using the given scoring\n",
      " |      function.  Following Church and Hanks (1990), counts are scaled by\n",
      " |      a factor of 1/(window_size - 1).\n",
      " |  \n",
      " |  ----------------------------------------------------------------------\n",
      " |  Class methods defined here:\n",
      " |  \n",
      " |  from_words(words, window_size=2) from builtins.type\n",
      " |      Construct a BigramCollocationFinder for all bigrams in the given\n",
      " |      sequence.  When window_size > 2, count non-contiguous bigrams, in the\n",
      " |      style of Church and Hanks's (1990) association ratio.\n",
      " |  \n",
      " |  ----------------------------------------------------------------------\n",
      " |  Data and other attributes defined here:\n",
      " |  \n",
      " |  default_ws = 2\n",
      " |  \n",
      " |  ----------------------------------------------------------------------\n",
      " |  Methods inherited from AbstractCollocationFinder:\n",
      " |  \n",
      " |  above_score(self, score_fn, min_score)\n",
      " |      Returns a sequence of ngrams, ordered by decreasing score, whose\n",
      " |      scores each exceed the given minimum score.\n",
      " |  \n",
      " |  apply_freq_filter(self, min_freq)\n",
      " |      Removes candidate ngrams which have frequency less than min_freq.\n",
      " |  \n",
      " |  apply_ngram_filter(self, fn)\n",
      " |      Removes candidate ngrams (w1, w2, ...) where fn(w1, w2, ...)\n",
      " |      evaluates to True.\n",
      " |  \n",
      " |  apply_word_filter(self, fn)\n",
      " |      Removes candidate ngrams (w1, w2, ...) where any of (fn(w1), fn(w2),\n",
      " |      ...) evaluates to True.\n",
      " |  \n",
      " |  nbest(self, score_fn, n)\n",
      " |      Returns the top n ngrams when scored by the given function.\n",
      " |  \n",
      " |  score_ngrams(self, score_fn)\n",
      " |      Returns a sequence of (ngram, score) pairs ordered from highest to\n",
      " |      lowest score, as determined by the scoring function provided.\n",
      " |  \n",
      " |  ----------------------------------------------------------------------\n",
      " |  Class methods inherited from AbstractCollocationFinder:\n",
      " |  \n",
      " |  from_documents(documents) from builtins.type\n",
      " |      Constructs a collocation finder given a collection of documents,\n",
      " |      each of which is a list (or iterable) of tokens.\n",
      " |  \n",
      " |  ----------------------------------------------------------------------\n",
      " |  Data descriptors inherited from AbstractCollocationFinder:\n",
      " |  \n",
      " |  __dict__\n",
      " |      dictionary for instance variables (if defined)\n",
      " |  \n",
      " |  __weakref__\n",
      " |      list of weak references to the object (if defined)\n",
      "\n"
     ]
    }
   ],
   "source": [
    "finder2 = collocations.BigramCollocationFinder.from_documents([normalize(text)])\n",
    "help(finder2)"
   ]
  },
  {
   "cell_type": "code",
   "execution_count": 172,
   "metadata": {},
   "outputs": [
    {
     "data": {
      "text/plain": [
       "[('академический', 'карьера'),\n",
       " ('в', 'наука'),\n",
       " ('деятель', 'на'),\n",
       " ('квалификационный', 'система'),\n",
       " ('на', 'отдельный'),\n",
       " ('наука', 'позволять'),\n",
       " ('научный', 'деятель'),\n",
       " ('отдельный', 'этап'),\n",
       " ('позволять', 'ранжировать'),\n",
       " ('ранжировать', 'научный'),\n",
       " ('система', 'в'),\n",
       " ('этап', 'академический'),\n",
       " ('степень', 'квалификационный'),\n",
       " ('учёный', 'степень'),\n",
       " ('степень', 'степень')]"
      ]
     },
     "execution_count": 172,
     "metadata": {},
     "output_type": "execute_result"
    }
   ],
   "source": [
    "finder2.nbest(collocations.BigramAssocMeasures().likelihood_ratio, 20)"
   ]
  },
  {
   "cell_type": "code",
   "execution_count": 191,
   "metadata": {},
   "outputs": [],
   "source": [
    "finder2.apply_ngram_filter(lambda w1, w2: (w1, w2) not in [('академический', 'карьера'),\n",
    " ('в', 'наука')])"
   ]
  },
  {
   "cell_type": "code",
   "execution_count": 192,
   "metadata": {},
   "outputs": [
    {
     "data": {
      "text/plain": [
       "[('академический', 'карьера'), ('в', 'наука')]"
      ]
     },
     "execution_count": 192,
     "metadata": {},
     "output_type": "execute_result"
    }
   ],
   "source": [
    "finder2.nbest(collocations.BigramAssocMeasures().likelihood_ratio, 20)"
   ]
  },
  {
   "cell_type": "markdown",
   "metadata": {},
   "source": [
    "**let us scale it up**"
   ]
  },
  {
   "cell_type": "code",
   "execution_count": 230,
   "metadata": {},
   "outputs": [],
   "source": [
    "finder_corpus = collocations.BigramCollocationFinder.from_documents([lemmas])"
   ]
  },
  {
   "cell_type": "code",
   "execution_count": 231,
   "metadata": {},
   "outputs": [],
   "source": [
    "finder_corpus.apply_ngram_filter(lambda w1, w2: (w1, w2) not in verb_noun_pairs)"
   ]
  },
  {
   "cell_type": "markdown",
   "metadata": {},
   "source": [
    "**log-likelyhood**"
   ]
  },
  {
   "cell_type": "code",
   "execution_count": 232,
   "metadata": {},
   "outputs": [
    {
     "data": {
      "text/plain": [
       "[(('подать', 'иск'), 390.7469918313811),\n",
       " (('удовлетворить', 'иск'), 367.9421146832274),\n",
       " (('принять', 'решение'), 296.7262631069758),\n",
       " (('удовлетворить', 'ходатайство'), 227.81434468255617),\n",
       " (('вынести', 'решение'), 206.17171264048898),\n",
       " (('обжаловать', 'решение'), 197.25550965567118),\n",
       " (('иметь', 'право'), 189.0355350445676),\n",
       " (('просить', 'суд'), 175.41196696936686),\n",
       " (('вынести', 'приговор'), 135.92698508708463),\n",
       " (('предъявить', 'обвинение'), 116.95866622592024),\n",
       " (('подать', 'апелляция'), 116.51807466550632),\n",
       " (('рассмотреть', 'жалоба'), 116.24694538424626),\n",
       " (('отклонить', 'иск'), 110.85386875573855),\n",
       " (('отменить', 'решение'), 88.1360427417323),\n",
       " (('подтвердить', 'законность'), 79.94124462254973),\n",
       " (('отменить', 'постановление'), 74.24581090504788),\n",
       " (('оспаривать', 'решение'), 71.97322086523803),\n",
       " (('выплатить', 'компенсация'), 64.25504676390007),\n",
       " (('удовлетворить', 'жалоба'), 63.14618879984968),\n",
       " (('рассматривать', 'дело'), 61.346858270590275),\n",
       " (('рассматривать', 'иск'), 60.19030671145424),\n",
       " (('отменить', 'регистрация'), 54.24272829032317),\n",
       " (('оспорить', 'предписание'), 53.04992615184281),\n",
       " (('рассмотреть', 'вопрос'), 50.220428661496925),\n",
       " (('вынести', 'вердикт'), 49.260863766906226),\n",
       " (('рассмотреть', 'иск'), 48.1079537443141),\n",
       " (('подать', 'жалоба'), 46.29218258208084),\n",
       " (('оспорить', 'решение'), 44.737426431348744),\n",
       " (('обвинить', 'президент'), 43.82917434968167),\n",
       " (('оспаривать', 'законность'), 38.04701165889487),\n",
       " (('дать', 'показание'), 37.45719144059801),\n",
       " (('решить', 'проблема'), 35.39798378306819),\n",
       " (('подать', 'ходатайство'), 32.13605106877373),\n",
       " (('выплатить', 'иркутянин'), 30.930662113906738),\n",
       " (('отменить', 'указ'), 27.453482128440626),\n",
       " (('передать', 'дело'), 26.12697558544093),\n",
       " (('дать', 'возможность'), 24.42530387025851),\n",
       " (('оспорить', 'претензия'), 24.11588878126648),\n",
       " (('принять', 'резолюция'), 23.461571270866855),\n",
       " (('подтвердить', 'факт'), 21.837951130878082),\n",
       " (('оспорить', 'правомерность'), 21.56368627216229),\n",
       " (('объявить', 'перерыв'), 21.332066042812713),\n",
       " (('приговорить', 'экс-глава'), 20.15568331943666),\n",
       " (('удовлетворить', 'апелляция'), 19.79616244691273),\n",
       " (('признать', 'сделка'), 18.540437209626205),\n",
       " (('оспаривать', 'предписание'), 18.104008892952468),\n",
       " (('приговорить', 'основатель'), 16.69555788610725),\n",
       " (('отменить', 'запрет'), 16.18145073610016),\n",
       " (('рассматривать', 'вопрос'), 15.785331043665217),\n",
       " (('доказать', 'правность'), 15.618541210768843),\n",
       " (('использовать', 'женщинсмертница'), 15.618541210768843),\n",
       " (('направить', 'запрос'), 14.892066736145397),\n",
       " (('отменить', 'определение'), 14.819468395100785),\n",
       " (('признать', 'договор'), 14.701920270707205),\n",
       " (('принять', 'мера'), 14.625608178800633),\n",
       " (('направить', 'альтернативщик'), 14.388629869896457),\n",
       " (('предъявить', 'претензия'), 14.10660535862067),\n",
       " (('получить', 'компромат'), 14.006516972861112),\n",
       " (('оспаривать', 'отказ'), 13.999036828348947),\n",
       " (('выплатить', 'штраф'), 13.311690300514385),\n",
       " (('удовлетворить', 'запрос'), 12.90211262969292),\n",
       " (('обвинить', 'лидер'), 12.530330187220986),\n",
       " (('обжаловать', 'приговор'), 12.499058790544638),\n",
       " (('запретить', 'деятельность'), 12.32068009844993),\n",
       " (('признать', 'книга'), 12.295343070960625),\n",
       " (('обжаловать', 'санкция'), 12.26921230598232),\n",
       " (('предъявить', 'ультиматум'), 11.735711942016602),\n",
       " (('доказать', 'неправомерность'), 10.617736615253996),\n",
       " (('дать', 'заключение'), 10.27506277589272),\n",
       " (('доказать', 'бездействие'), 9.881742249219732),\n",
       " (('выплатить', 'дивиденд'), 9.42675909996086),\n",
       " (('решить', 'вопрос'), 9.422415553814636),\n",
       " (('доказать', 'невиновность'), 9.346002857833406),\n",
       " (('признать', 'решение'), 8.938696202635827),\n",
       " (('пройти', 'курс'), 8.840612939459556),\n",
       " (('оставить', 'приговор'), 8.745000662448923),\n",
       " (('решить', 'судьба'), 8.077087266323883),\n",
       " (('оспорить', 'доначисление'), 8.070357665243279),\n",
       " (('арестовывать', 'акция'), 7.914665577782012),\n",
       " (('дать', 'указание'), 7.870345169841317),\n",
       " (('приговорить', 'командир'), 7.584906419865953),\n",
       " (('доказать', 'незаконность'), 7.323205479980688),\n",
       " (('оспорить', 'указ'), 7.241370248310041),\n",
       " (('обвинить', 'сотрудник'), 7.209389291596047),\n",
       " (('приговорить', 'политэмигрант'), 7.206010435972156),\n",
       " (('получить', 'срок'), 7.153495625613202),\n",
       " (('признать', 'действие'), 6.996074046122879),\n",
       " (('признать', 'подсудимый'), 6.760345151950865),\n",
       " (('направить', 'жалоба'), 6.689249892979589),\n",
       " (('доказать', 'вина'), 6.622089390760348),\n",
       " (('приговорить', 'экс-министр'), 6.49243001763659),\n",
       " (('принять', 'заявление'), 6.381576855217991),\n",
       " (('дать', 'определение'), 6.3352181339112885),\n",
       " (('пройти', 'проверка'), 5.998117749537802),\n",
       " (('обязать', 'ответчик'), 5.842543456561479),\n",
       " (('рассмотреть', 'представление'), 5.695988879838257),\n",
       " (('получить', 'контроль'), 5.652788787846177),\n",
       " (('назначить', 'наказание'), 5.5414373083729025),\n",
       " (('рассматривать', 'представление'), 5.530370671303432),\n",
       " (('делать', 'вид'), 5.51393351156961),\n",
       " (('рассмотреть', 'возможность'), 5.37422204376839),\n",
       " (('обжаловать', 'вердикт'), 5.30460102668789),\n",
       " (('оспорить', 'сделка'), 5.052169576165335),\n",
       " (('оспаривать', 'результат'), 4.988190081188906),\n",
       " (('получить', 'услуга'), 4.877176621999506),\n",
       " (('провести', 'слушание'), 4.835288682071527),\n",
       " (('принять', 'иск'), 4.781397991016006),\n",
       " (('иметь', 'повод'), 4.56329918316645),\n",
       " (('считать', 'репутация'), 4.529436235488127),\n",
       " (('обязать', 'депутат'), 4.527568822835543),\n",
       " (('рассмотреть', 'материал'), 4.486225129654824),\n",
       " (('выплатить', 'компания'), 4.103274503092414),\n",
       " (('приговорить', 'подсудимый'), 4.002355476054371),\n",
       " (('отменить', 'мера'), 3.91548180222801),\n",
       " (('вынести', 'суд'), 3.882908571024079),\n",
       " (('получить', 'информация'), 3.731717782214189),\n",
       " (('решить', 'директор'), 3.509678122971153),\n",
       " (('сообщить', 'сведение'), 3.47758376028444),\n",
       " (('запретить', 'акция'), 3.3847287945543743),\n",
       " (('признать', 'претензия'), 3.3499814458197172),\n",
       " (('оспорить', 'действие'), 3.271886061406844),\n",
       " (('отменить', 'приговор'), 2.495697486425308),\n",
       " (('отменить', 'арест'), 2.48692760898808),\n",
       " (('признать', 'часть'), 2.1229623310007573),\n",
       " (('признать', 'право'), 1.9956304662982012),\n",
       " (('оставить', 'иск'), 1.3107001578907682),\n",
       " (('признать', 'требование'), 0.9354551755265668),\n",
       " (('признать', 'компания'), 0.7586687824657443),\n",
       " (('предъявить', 'иск'), 0.641902134256231),\n",
       " (('провести', 'суд'), 0.43770665790189156),\n",
       " (('рассматривать', 'решение'), 0.16824295715523552),\n",
       " (('считать', 'решение'), 9.025290826918803e-05)]"
      ]
     },
     "execution_count": 232,
     "metadata": {},
     "output_type": "execute_result"
    }
   ],
   "source": [
    "finder_corpus.score_ngrams(collocations.BigramAssocMeasures().likelihood_ratio)"
   ]
  },
  {
   "cell_type": "code",
   "execution_count": 233,
   "metadata": {},
   "outputs": [],
   "source": [
    "loglike_100best = finder_corpus.nbest(collocations.BigramAssocMeasures().likelihood_ratio, 100)"
   ]
  },
  {
   "cell_type": "markdown",
   "metadata": {},
   "source": [
    "**dice**"
   ]
  },
  {
   "cell_type": "code",
   "execution_count": 234,
   "metadata": {},
   "outputs": [
    {
     "data": {
      "text/plain": [
       "[(('удовлетворить', 'ходатайство'), 0.17142857142857143),\n",
       " (('подать', 'иск'), 0.14628297362110312),\n",
       " (('удовлетворить', 'иск'), 0.14188267394270124),\n",
       " (('иметь', 'право'), 0.13529411764705881),\n",
       " (('подтвердить', 'законность'), 0.12598425196850394),\n",
       " (('оспорить', 'предписание'), 0.1111111111111111),\n",
       " (('выплатить', 'компенсация'), 0.109375),\n",
       " (('предъявить', 'обвинение'), 0.1079136690647482),\n",
       " (('вынести', 'приговор'), 0.10734463276836158),\n",
       " (('рассмотреть', 'жалоба'), 0.10309278350515463),\n",
       " (('отменить', 'постановление'), 0.09836065573770492),\n",
       " (('отменить', 'регистрация'), 0.09375),\n",
       " (('принять', 'решение'), 0.09056603773584905),\n",
       " (('оспаривать', 'законность'), 0.08888888888888889),\n",
       " (('подать', 'апелляция'), 0.08414239482200647),\n",
       " (('дать', 'показание'), 0.08),\n",
       " (('вынести', 'решение'), 0.06981132075471698),\n",
       " (('решить', 'проблема'), 0.06779661016949153),\n",
       " (('рассмотреть', 'вопрос'), 0.06698564593301436),\n",
       " (('обжаловать', 'решение'), 0.06342913776015857),\n",
       " (('вынести', 'вердикт'), 0.06315789473684211),\n",
       " (('выплатить', 'иркутянин'), 0.0625),\n",
       " (('удовлетворить', 'жалоба'), 0.058981233243967826),\n",
       " (('отменить', 'указ'), 0.057692307692307696),\n",
       " (('дать', 'возможность'), 0.05454545454545454),\n",
       " (('отклонить', 'иск'), 0.05396825396825397),\n",
       " (('оспаривать', 'предписание'), 0.05263157894736842),\n",
       " (('оспорить', 'правомерность'), 0.05263157894736842),\n",
       " (('объявить', 'перерыв'), 0.05),\n",
       " (('подтвердить', 'факт'), 0.043478260869565216),\n",
       " (('подать', 'жалоба'), 0.04219409282700422),\n",
       " (('отменить', 'запрет'), 0.03773584905660377),\n",
       " (('рассматривать', 'иск'), 0.036418816388467376),\n",
       " (('оспорить', 'претензия'), 0.035555555555555556),\n",
       " (('приговорить', 'экс-глава'), 0.03550295857988166),\n",
       " (('оспаривать', 'отказ'), 0.03508771929824561),\n",
       " (('отменить', 'определение'), 0.034782608695652174),\n",
       " (('доказать', 'правность'), 0.034482758620689655),\n",
       " (('использовать', 'женщинсмертница'), 0.034482758620689655),\n",
       " (('отменить', 'решение'), 0.03434343434343434),\n",
       " (('обвинить', 'президент'), 0.03400309119010819),\n",
       " (('подать', 'ходатайство'), 0.03365384615384615),\n",
       " (('выплатить', 'штраф'), 0.03225806451612903),\n",
       " (('доказать', 'неправомерность'), 0.03225806451612903),\n",
       " (('пройти', 'курс'), 0.031746031746031744),\n",
       " (('доказать', 'бездействие'), 0.03125),\n",
       " (('направить', 'запрос'), 0.03076923076923077),\n",
       " (('рассмотреть', 'иск'), 0.030721966205837174),\n",
       " (('доказать', 'невиновность'), 0.030303030303030304),\n",
       " (('приговорить', 'основатель'), 0.029197080291970802),\n",
       " (('удовлетворить', 'апелляция'), 0.028846153846153848),\n",
       " (('выплатить', 'дивиденд'), 0.02857142857142857),\n",
       " (('запретить', 'деятельность'), 0.027777777777777776),\n",
       " (('рассматривать', 'вопрос'), 0.027649769585253458),\n",
       " (('рассматривать', 'дело'), 0.027640671273445213),\n",
       " (('оспаривать', 'решение'), 0.027055150884495317),\n",
       " (('обжаловать', 'санкция'), 0.026490066225165563),\n",
       " (('принять', 'резолюция'), 0.02564102564102564),\n",
       " (('доказать', 'незаконность'), 0.024691358024691357),\n",
       " (('оспорить', 'доначисление'), 0.024390243902439025),\n",
       " (('принять', 'мера'), 0.024390243902439025),\n",
       " (('просить', 'суд'), 0.0242306760358614),\n",
       " (('дать', 'указание'), 0.023529411764705882),\n",
       " (('предъявить', 'претензия'), 0.0234375),\n",
       " (('оспорить', 'указ'), 0.02247191011235955),\n",
       " (('доказать', 'вина'), 0.02197802197802198),\n",
       " (('дать', 'заключение'), 0.02127659574468085),\n",
       " (('оспорить', 'решение'), 0.020512820512820513),\n",
       " (('решить', 'судьба'), 0.02040816326530612),\n",
       " (('удовлетворить', 'запрос'), 0.020202020202020204),\n",
       " (('обжаловать', 'приговор'), 0.019801980198019802),\n",
       " (('предъявить', 'ультиматум'), 0.019801980198019802),\n",
       " (('дать', 'определение'), 0.0196078431372549),\n",
       " (('признать', 'сделка'), 0.0196078431372549),\n",
       " (('решить', 'вопрос'), 0.01951219512195122),\n",
       " (('пройти', 'проверка'), 0.019417475728155338),\n",
       " (('направить', 'альтернативщик'), 0.018867924528301886),\n",
       " (('обязать', 'ответчик'), 0.018518518518518517),\n",
       " (('признать', 'договор'), 0.017857142857142856),\n",
       " (('назначить', 'наказание'), 0.017241379310344827),\n",
       " (('делать', 'вид'), 0.01652892561983471),\n",
       " (('рассмотреть', 'представление'), 0.016),\n",
       " (('получить', 'компромат'), 0.015625),\n",
       " (('оспорить', 'сделка'), 0.015267175572519083),\n",
       " (('оставить', 'приговор'), 0.015267175572519083),\n",
       " (('рассмотреть', 'возможность'), 0.015267175572519083),\n",
       " (('арестовывать', 'акция'), 0.015037593984962405),\n",
       " (('приговорить', 'командир'), 0.015037593984962405),\n",
       " (('рассматривать', 'представление'), 0.015037593984962405),\n",
       " (('приговорить', 'политэмигрант'), 0.014814814814814815),\n",
       " (('оспаривать', 'результат'), 0.014705882352941176),\n",
       " (('получить', 'срок'), 0.014652014652014652),\n",
       " (('обжаловать', 'вердикт'), 0.014388489208633094),\n",
       " (('провести', 'слушание'), 0.014388489208633094),\n",
       " (('приговорить', 'экс-министр'), 0.014285714285714285),\n",
       " (('передать', 'дело'), 0.014256619144602852),\n",
       " (('обвинить', 'лидер'), 0.014084507042253521),\n",
       " (('принять', 'заявление'), 0.013245033112582781),\n",
       " (('получить', 'контроль'), 0.013157894736842105),\n",
       " (('направить', 'жалоба'), 0.013114754098360656),\n",
       " (('иметь', 'повод'), 0.013071895424836602),\n",
       " (('обязать', 'депутат'), 0.013071895424836602),\n",
       " (('рассмотреть', 'материал'), 0.012987012987012988),\n",
       " (('признать', 'решение'), 0.012779552715654952),\n",
       " (('получить', 'услуга'), 0.012195121951219513),\n",
       " (('признать', 'действие'), 0.011881188118811881),\n",
       " (('отменить', 'мера'), 0.011363636363636364),\n",
       " (('признать', 'книга'), 0.011111111111111112),\n",
       " (('приговорить', 'подсудимый'), 0.01092896174863388),\n",
       " (('считать', 'репутация'), 0.010582010582010581),\n",
       " (('обвинить', 'сотрудник'), 0.010344827586206896),\n",
       " (('получить', 'информация'), 0.010309278350515464),\n",
       " (('решить', 'директор'), 0.01015228426395939),\n",
       " (('признать', 'подсудимый'), 0.009876543209876543),\n",
       " (('оспорить', 'действие'), 0.008771929824561403),\n",
       " (('принять', 'иск'), 0.008415147265077139),\n",
       " (('запретить', 'акция'), 0.008368200836820083),\n",
       " (('признать', 'претензия'), 0.00796812749003984),\n",
       " (('сообщить', 'сведение'), 0.007633587786259542),\n",
       " (('отменить', 'приговор'), 0.007042253521126761),\n",
       " (('отменить', 'арест'), 0.007017543859649123),\n",
       " (('признать', 'право'), 0.006779661016949152),\n",
       " (('признать', 'компания'), 0.0057361376673040155),\n",
       " (('выплатить', 'компания'), 0.005242463958060288),\n",
       " (('признать', 'часть'), 0.0049382716049382715),\n",
       " (('признать', 'требование'), 0.004228329809725159),\n",
       " (('оставить', 'иск'), 0.00322061191626409),\n",
       " (('предъявить', 'иск'), 0.0030349013657056147),\n",
       " (('рассматривать', 'решение'), 0.0019880715705765406),\n",
       " (('считать', 'решение'), 0.0018885741265344666),\n",
       " (('провести', 'суд'), 0.0004943153732081067),\n",
       " (('вынести', 'суд'), 0.00048355899419729207)]"
      ]
     },
     "execution_count": 234,
     "metadata": {},
     "output_type": "execute_result"
    }
   ],
   "source": [
    "finder_corpus.score_ngrams(collocations.BigramAssocMeasures().dice)"
   ]
  },
  {
   "cell_type": "code",
   "execution_count": 235,
   "metadata": {},
   "outputs": [],
   "source": [
    "dice_100best = finder_corpus.nbest(collocations.BigramAssocMeasures().dice, 100)"
   ]
  },
  {
   "cell_type": "markdown",
   "metadata": {},
   "source": [
    "**PMI**"
   ]
  },
  {
   "cell_type": "code",
   "execution_count": 236,
   "metadata": {},
   "outputs": [
    {
     "data": {
      "text/plain": [
       "[(('доказать', 'правность'), 11.253671275427315),\n",
       " (('использовать', 'женщинсмертница'), 11.253671275427315),\n",
       " (('выплатить', 'иркутянин'), 11.132364979205182),\n",
       " (('направить', 'альтернативщик'), 10.372315771925937),\n",
       " (('получить', 'компромат'), 10.097876602819891),\n",
       " (('предъявить', 'ультиматум'), 9.45720466951245),\n",
       " (('принять', 'резолюция'), 9.24421094617825),\n",
       " (('оспорить', 'правомерность'), 8.99909844834172),\n",
       " (('доказать', 'неправомерность'), 8.931743180539954),\n",
       " (('объявить', 'перерыв'), 8.916636288149745),\n",
       " (('оспорить', 'предписание'), 8.861594924591783),\n",
       " (('доказать', 'бездействие'), 8.446316353369712),\n",
       " (('подтвердить', 'законность'), 8.408841647951048),\n",
       " (('оспаривать', 'законность'), 8.161748785986276),\n",
       " (('выплатить', 'дивиденд'), 8.132364979205182),\n",
       " (('доказать', 'невиновность'), 8.083746273985005),\n",
       " (('дать', 'показание'), 8.050387677038573),\n",
       " (('отменить', 'указ'), 7.9041669361875275),\n",
       " (('выплатить', 'компенсация'), 7.895325781904335),\n",
       " (('оспаривать', 'предписание'), 7.872242168791292),\n",
       " (('отменить', 'регистрация'), 7.804631262636613),\n",
       " (('пройти', 'курс'), 7.742265381676241),\n",
       " (('решить', 'проблема'), 7.689421483356455),\n",
       " (('подать', 'апелляция'), 7.559685907827655),\n",
       " (('приговорить', 'основатель'), 7.336691862195215),\n",
       " (('удовлетворить', 'ходатайство'), 7.25707344461412),\n",
       " (('отменить', 'постановление'), 7.23759066991272),\n",
       " (('дать', 'возможность'), 7.220312678480884),\n",
       " (('вынести', 'вердикт'), 7.204682581991612),\n",
       " (('оспорить', 'доначисление'), 7.191743526284116),\n",
       " (('отменить', 'запрет'), 7.187959902188121),\n",
       " (('решить', 'судьба'), 7.184186175106033),\n",
       " (('иметь', 'право'), 7.103629698315551),\n",
       " (('дать', 'указание'), 7.050387677038573),\n",
       " (('предъявить', 'обвинение'), 6.880279487856708),\n",
       " (('рассмотреть', 'жалоба'), 6.841801055227153),\n",
       " (('приговорить', 'командир'), 6.822118689365457),\n",
       " (('направить', 'запрос'), 6.728459582151212),\n",
       " (('отменить', 'определение'), 6.711521858245133),\n",
       " (('доказать', 'незаконность'), 6.668708774706161),\n",
       " (('подтвердить', 'факт'), 6.609140298436879),\n",
       " (('оспорить', 'указ'), 6.606781025562958),\n",
       " (('приговорить', 'политэмигрант'), 6.5590842835316625),\n",
       " (('рассмотреть', 'вопрос'), 6.503478522089127),\n",
       " (('вынести', 'приговор'), 6.4260492691640625),\n",
       " (('оспаривать', 'отказ'), 6.424783191820071),\n",
       " (('удовлетворить', 'иск'), 6.22308976315146),\n",
       " (('приговорить', 'экс-глава'), 6.205447328916959),\n",
       " (('выплатить', 'штраф'), 6.178168668818307),\n",
       " (('доказать', 'вина'), 6.166208434176976),\n",
       " (('удовлетворить', 'апелляция'), 6.10761254573152),\n",
       " (('приговорить', 'экс-министр'), 6.0565839430024795),\n",
       " (('удовлетворить', 'запрос'), 6.0080768721806095),\n",
       " (('дать', 'определение'), 5.957278272647091),\n",
       " (('отклонить', 'иск'), 5.915458096952465),\n",
       " (('запретить', 'деятельность'), 5.819774748897155),\n",
       " (('обжаловать', 'санкция'), 5.799426103505352),\n",
       " (('подать', 'иск'), 5.789983527249447),\n",
       " (('признать', 'книга'), 5.749218142318007),\n",
       " (('пройти', 'проверка'), 5.714784645254134),\n",
       " (('оспорить', 'претензия'), 5.70447769945009),\n",
       " (('обязать', 'ответчик'), 5.601235100351534),\n",
       " (('обжаловать', 'решение'), 5.5891772070920425),\n",
       " (('принять', 'решение'), 5.589177207092039),\n",
       " (('рассмотреть', 'представление'), 5.491303808143021),\n",
       " (('удовлетворить', 'жалоба'), 5.467508490817906),\n",
       " (('получить', 'контроль'), 5.454020413045168),\n",
       " (('назначить', 'наказание'), 5.381360911528944),\n",
       " (('рассматривать', 'представление'), 5.369741828262109),\n",
       " (('делать', 'вид'), 5.360343130259858),\n",
       " (('рассмотреть', 'возможность'), 5.256838554506),\n",
       " (('вынести', 'решение'), 5.213668071999834),\n",
       " (('оспаривать', 'решение'), 5.207154765041157),\n",
       " (('обжаловать', 'вердикт'), 5.204682581991612),\n",
       " (('рассматривать', 'вопрос'), 5.159524120871762),\n",
       " (('дать', 'заключение'), 5.074635223285249),\n",
       " (('оспорить', 'сделка'), 5.021818524841802),\n",
       " (('оспаривать', 'результат'), 4.974121782810506),\n",
       " (('отменить', 'решение'), 4.974025958966948),\n",
       " (('рассматривать', 'иск'), 4.912884153288635),\n",
       " (('получить', 'услуга'), 4.888423237190944),\n",
       " (('принять', 'мера'), 4.874977136512529),\n",
       " (('провести', 'слушание'), 4.861353852648556),\n",
       " (('рассмотреть', 'иск'), 4.771411727335758),\n",
       " (('решить', 'вопрос'), 4.760974744381489),\n",
       " (('предъявить', 'претензия'), 4.7475464213419745),\n",
       " (('признать', 'сделка'), 4.678828814426611),\n",
       " (('подать', 'жалоба'), 4.666601111744168),\n",
       " (('иметь', 'повод'), 4.658724686133539),\n",
       " (('подать', 'ходатайство'), 4.646137009184454),\n",
       " (('обязать', 'депутат'), 4.63226199597216),\n",
       " (('считать', 'репутация'), 4.629180410519524),\n",
       " (('рассмотреть', 'материал'), 4.601486725893444),\n",
       " (('оставить', 'приговор'), 4.504772260850244),\n",
       " (('оспорить', 'решение'), 4.4960678027005585),\n",
       " (('рассматривать', 'дело'), 4.428509236511985),\n",
       " (('обжаловать', 'приговор'), 4.348046757162788),\n",
       " (('приговорить', 'подсудимый'), 4.237156188644301),\n",
       " (('арестовывать', 'акция'), 4.19582201996109),\n",
       " (('обвинить', 'президент'), 4.181960876491868),\n",
       " (('отменить', 'мера'), 4.1723630471371),\n",
       " (('получить', 'информация'), 4.031787412362119),\n",
       " (('передать', 'дело'), 3.9704030153412546),\n",
       " (('признать', 'договор'), 3.969608210743308),\n",
       " (('получить', 'срок'), 3.9080520439398754),\n",
       " (('решить', 'директор'), 3.8622580802186715),\n",
       " (('сообщить', 'сведение'), 3.833156960817906),\n",
       " (('запретить', 'акция'), 3.76350652925041),\n",
       " (('признать', 'подсудимый'), 3.749218142318009),\n",
       " (('направить', 'жалоба'), 3.7284595821512116),\n",
       " (('оспорить', 'действие'), 3.677170353454356),\n",
       " (('принять', 'заявление'), 3.6100049264372434),\n",
       " (('просить', 'суд'), 3.6008527135602826),\n",
       " (('обвинить', 'лидер'), 3.5499498029662835),\n",
       " (('отменить', 'приговор'), 3.060470167066205),\n",
       " (('отменить', 'арест'), 3.0533103754933393),\n",
       " (('обвинить', 'сотрудник'), 2.97444763149419),\n",
       " (('признать', 'действие'), 2.9191431437603175),\n",
       " (('признать', 'часть'), 2.749218142318009),\n",
       " (('выплатить', 'компания'), 2.67909434519456),\n",
       " (('признать', 'претензия'), 2.3614879890348988),\n",
       " (('принять', 'иск'), 2.2848529306755943),\n",
       " (('оставить', 'иск'), 2.0265409350842045),\n",
       " (('признать', 'решение'), 1.831149997398004),\n",
       " (('признать', 'право'), 1.7194707989239575),\n",
       " (('признать', 'требование'), 1.6561087379265285),\n",
       " (('предъявить', 'иск'), 1.3279216525674808),\n",
       " (('признать', 'компания'), 0.7878006046370558),\n",
       " (('рассматривать', 'решение'), 0.6322459289839273),\n",
       " (('считать', 'решение'), 0.013675035619950648),\n",
       " (('провести', 'суд'), -0.8503583982720428),\n",
       " (('вынести', 'суд'), -2.13046631746478)]"
      ]
     },
     "execution_count": 236,
     "metadata": {},
     "output_type": "execute_result"
    }
   ],
   "source": [
    "finder_corpus.score_ngrams(collocations.BigramAssocMeasures().pmi)"
   ]
  },
  {
   "cell_type": "code",
   "execution_count": 237,
   "metadata": {},
   "outputs": [],
   "source": [
    "pmi_100best = finder_corpus.nbest(collocations.BigramAssocMeasures().pmi, 100)"
   ]
  },
  {
   "cell_type": "markdown",
   "metadata": {},
   "source": [
    "## 3. Gold Standard"
   ]
  },
  {
   "cell_type": "code",
   "execution_count": 238,
   "metadata": {},
   "outputs": [
    {
     "data": {
      "text/plain": [
       "{('арестовывать', 'акция'),\n",
       " ('вынести', 'вердикт'),\n",
       " ('вынести', 'приговор'),\n",
       " ('вынести', 'решение'),\n",
       " ('выплатить', 'дивиденд'),\n",
       " ('выплатить', 'иркутянин'),\n",
       " ('выплатить', 'компенсация'),\n",
       " ('выплатить', 'штраф'),\n",
       " ('дать', 'возможность'),\n",
       " ('дать', 'заключение'),\n",
       " ('дать', 'определение'),\n",
       " ('дать', 'показание'),\n",
       " ('дать', 'указание'),\n",
       " ('делать', 'вид'),\n",
       " ('доказать', 'бездействие'),\n",
       " ('доказать', 'вина'),\n",
       " ('доказать', 'невиновность'),\n",
       " ('доказать', 'незаконность'),\n",
       " ('доказать', 'неправомерность'),\n",
       " ('доказать', 'правность'),\n",
       " ('запретить', 'деятельность'),\n",
       " ('иметь', 'право'),\n",
       " ('использовать', 'женщинсмертница'),\n",
       " ('назначить', 'наказание'),\n",
       " ('направить', 'альтернативщик'),\n",
       " ('направить', 'запрос'),\n",
       " ('обвинить', 'президент'),\n",
       " ('обжаловать', 'приговор'),\n",
       " ('обжаловать', 'решение'),\n",
       " ('обжаловать', 'санкция'),\n",
       " ('объявить', 'перерыв'),\n",
       " ('обязать', 'ответчик'),\n",
       " ('оспаривать', 'законность'),\n",
       " ('оспаривать', 'отказ'),\n",
       " ('оспаривать', 'предписание'),\n",
       " ('оспаривать', 'решение'),\n",
       " ('оспорить', 'доначисление'),\n",
       " ('оспорить', 'правомерность'),\n",
       " ('оспорить', 'предписание'),\n",
       " ('оспорить', 'претензия'),\n",
       " ('оспорить', 'решение'),\n",
       " ('оспорить', 'указ'),\n",
       " ('оставить', 'приговор'),\n",
       " ('отклонить', 'иск'),\n",
       " ('отменить', 'запрет'),\n",
       " ('отменить', 'определение'),\n",
       " ('отменить', 'постановление'),\n",
       " ('отменить', 'регистрация'),\n",
       " ('отменить', 'решение'),\n",
       " ('отменить', 'указ'),\n",
       " ('подать', 'апелляция'),\n",
       " ('подать', 'жалоба'),\n",
       " ('подать', 'иск'),\n",
       " ('подать', 'ходатайство'),\n",
       " ('подтвердить', 'законность'),\n",
       " ('подтвердить', 'факт'),\n",
       " ('получить', 'компромат'),\n",
       " ('получить', 'контроль'),\n",
       " ('предъявить', 'обвинение'),\n",
       " ('предъявить', 'претензия'),\n",
       " ('предъявить', 'ультиматум'),\n",
       " ('приговорить', 'командир'),\n",
       " ('приговорить', 'основатель'),\n",
       " ('приговорить', 'политэмигрант'),\n",
       " ('приговорить', 'экс-глава'),\n",
       " ('приговорить', 'экс-министр'),\n",
       " ('признать', 'сделка'),\n",
       " ('принять', 'мера'),\n",
       " ('принять', 'резолюция'),\n",
       " ('принять', 'решение'),\n",
       " ('пройти', 'курс'),\n",
       " ('пройти', 'проверка'),\n",
       " ('рассматривать', 'вопрос'),\n",
       " ('рассматривать', 'дело'),\n",
       " ('рассматривать', 'иск'),\n",
       " ('рассматривать', 'представление'),\n",
       " ('рассмотреть', 'вопрос'),\n",
       " ('рассмотреть', 'жалоба'),\n",
       " ('рассмотреть', 'иск'),\n",
       " ('рассмотреть', 'представление'),\n",
       " ('решить', 'вопрос'),\n",
       " ('решить', 'проблема'),\n",
       " ('решить', 'судьба'),\n",
       " ('удовлетворить', 'апелляция'),\n",
       " ('удовлетворить', 'жалоба'),\n",
       " ('удовлетворить', 'запрос'),\n",
       " ('удовлетворить', 'иск'),\n",
       " ('удовлетворить', 'ходатайство')}"
      ]
     },
     "execution_count": 238,
     "metadata": {},
     "output_type": "execute_result"
    }
   ],
   "source": [
    "GS_metrics = set(pmi_100best).intersection(set(dice_100best)).intersection(set(loglike_100best))\n",
    "GS_metrics"
   ]
  },
  {
   "cell_type": "code",
   "execution_count": 239,
   "metadata": {},
   "outputs": [],
   "source": [
    "verb_coll = []\n",
    "with open(\"verb_coll.txt\", 'r', encoding=\"utf-8\") as f:\n",
    "    text = f.read()\n",
    "\n",
    "lines = text.split(\"\\n\")\n",
    "for line in lines:\n",
    "    entry = line.split(\"\\t\")\n",
    "    if len(entry) > 2:\n",
    "        coll = entry[2]\n",
    "        words = coll.split()\n",
    "        if len(words) == 2:\n",
    "            coll_lemm = (m.parse(words[0])[0].normal_form, m.parse(words[1])[0].normal_form)\n",
    "            verb_coll.append(coll_lemm)"
   ]
  },
  {
   "cell_type": "code",
   "execution_count": 240,
   "metadata": {},
   "outputs": [
    {
     "data": {
      "text/plain": [
       "[('атака', 'захлебнуться'),\n",
       " ('атака', 'отбить'),\n",
       " ('атака', 'отбить'),\n",
       " ('начаться', 'атака'),\n",
       " ('начаться', 'атака'),\n",
       " ('начать', 'атака'),\n",
       " ('начать', 'атака'),\n",
       " ('повесть', 'атака'),\n",
       " ('дать', 'бал'),\n",
       " ('дать', 'бал'),\n",
       " ('конченый', 'бал'),\n",
       " ('править', 'бал'),\n",
       " ('найти', 'баланс'),\n",
       " ('найти', 'баланс'),\n",
       " ('соблюсти', 'баланс'),\n",
       " ('соблюсти', 'баланс'),\n",
       " ('состояться', 'банкет'),\n",
       " ('устроить', 'банкет'),\n",
       " ('устроить', 'банкет'),\n",
       " ('говорить', 'бас')]"
      ]
     },
     "execution_count": 240,
     "metadata": {},
     "output_type": "execute_result"
    }
   ],
   "source": [
    "verb_coll[80:100]"
   ]
  },
  {
   "cell_type": "code",
   "execution_count": 252,
   "metadata": {},
   "outputs": [
    {
     "data": {
      "text/plain": [
       "{('вынести', 'приговор'),\n",
       " ('вынести', 'решение'),\n",
       " ('дать', 'возможность'),\n",
       " ('дать', 'заключение'),\n",
       " ('дать', 'определение'),\n",
       " ('дать', 'показание'),\n",
       " ('дать', 'указание'),\n",
       " ('делать', 'вид'),\n",
       " ('доказать', 'вина'),\n",
       " ('направить', 'запрос'),\n",
       " ('обжаловать', 'приговор'),\n",
       " ('обжаловать', 'решение'),\n",
       " ('объявить', 'перерыв'),\n",
       " ('оспаривать', 'решение'),\n",
       " ('отменить', 'постановление'),\n",
       " ('отменить', 'решение'),\n",
       " ('подать', 'жалоба'),\n",
       " ('подать', 'иск'),\n",
       " ('получить', 'контроль'),\n",
       " ('предъявить', 'обвинение'),\n",
       " ('предъявить', 'претензия'),\n",
       " ('принять', 'мера'),\n",
       " ('принять', 'резолюция'),\n",
       " ('принять', 'решение'),\n",
       " ('пройти', 'курс'),\n",
       " ('пройти', 'проверка'),\n",
       " ('рассматривать', 'вопрос'),\n",
       " ('рассматривать', 'дело'),\n",
       " ('рассмотреть', 'вопрос'),\n",
       " ('рассмотреть', 'жалоба'),\n",
       " ('решить', 'вопрос'),\n",
       " ('решить', 'проблема'),\n",
       " ('решить', 'судьба'),\n",
       " ('удовлетворить', 'запрос'),\n",
       " ('удовлетворить', 'иск')}"
      ]
     },
     "execution_count": 252,
     "metadata": {},
     "output_type": "execute_result"
    }
   ],
   "source": [
    "GS = GS_metrics.intersection(set(verb_coll))\n",
    "GS"
   ]
  },
  {
   "cell_type": "code",
   "execution_count": 253,
   "metadata": {},
   "outputs": [
    {
     "data": {
      "text/plain": [
       "35"
      ]
     },
     "execution_count": 253,
     "metadata": {},
     "output_type": "execute_result"
    }
   ],
   "source": [
    "len(GS)"
   ]
  },
  {
   "cell_type": "markdown",
   "metadata": {},
   "source": [
    "## 4. Add absent collocations"
   ]
  },
  {
   "cell_type": "markdown",
   "metadata": {},
   "source": [
    "**absent in dictionary**"
   ]
  },
  {
   "cell_type": "code",
   "execution_count": 243,
   "metadata": {},
   "outputs": [
    {
     "data": {
      "text/plain": [
       "{('арестовывать', 'акция'),\n",
       " ('вынести', 'вердикт'),\n",
       " ('выплатить', 'дивиденд'),\n",
       " ('выплатить', 'иркутянин'),\n",
       " ('выплатить', 'компенсация'),\n",
       " ('выплатить', 'штраф'),\n",
       " ('доказать', 'бездействие'),\n",
       " ('доказать', 'невиновность'),\n",
       " ('доказать', 'незаконность'),\n",
       " ('доказать', 'неправомерность'),\n",
       " ('доказать', 'правность'),\n",
       " ('запретить', 'деятельность'),\n",
       " ('иметь', 'право'),\n",
       " ('использовать', 'женщинсмертница'),\n",
       " ('назначить', 'наказание'),\n",
       " ('направить', 'альтернативщик'),\n",
       " ('обвинить', 'президент'),\n",
       " ('обжаловать', 'санкция'),\n",
       " ('обязать', 'ответчик'),\n",
       " ('оспаривать', 'законность'),\n",
       " ('оспаривать', 'отказ'),\n",
       " ('оспаривать', 'предписание'),\n",
       " ('оспорить', 'доначисление'),\n",
       " ('оспорить', 'правомерность'),\n",
       " ('оспорить', 'предписание'),\n",
       " ('оспорить', 'претензия'),\n",
       " ('оспорить', 'решение'),\n",
       " ('оспорить', 'указ'),\n",
       " ('оставить', 'приговор'),\n",
       " ('отклонить', 'иск'),\n",
       " ('отменить', 'запрет'),\n",
       " ('отменить', 'определение'),\n",
       " ('отменить', 'регистрация'),\n",
       " ('отменить', 'указ'),\n",
       " ('подать', 'апелляция'),\n",
       " ('подать', 'ходатайство'),\n",
       " ('подтвердить', 'законность'),\n",
       " ('подтвердить', 'факт'),\n",
       " ('получить', 'компромат'),\n",
       " ('предъявить', 'ультиматум'),\n",
       " ('приговорить', 'командир'),\n",
       " ('приговорить', 'основатель'),\n",
       " ('приговорить', 'политэмигрант'),\n",
       " ('приговорить', 'экс-глава'),\n",
       " ('приговорить', 'экс-министр'),\n",
       " ('признать', 'сделка'),\n",
       " ('рассматривать', 'иск'),\n",
       " ('рассматривать', 'представление'),\n",
       " ('рассмотреть', 'иск'),\n",
       " ('рассмотреть', 'представление'),\n",
       " ('удовлетворить', 'апелляция'),\n",
       " ('удовлетворить', 'жалоба'),\n",
       " ('удовлетворить', 'ходатайство')}"
      ]
     },
     "execution_count": 243,
     "metadata": {},
     "output_type": "execute_result"
    }
   ],
   "source": [
    "GS_metrics.difference(GS)"
   ]
  },
  {
   "cell_type": "markdown",
   "metadata": {},
   "source": [
    "**I think, these are collocations:**"
   ]
  },
  {
   "cell_type": "code",
   "execution_count": 244,
   "metadata": {},
   "outputs": [],
   "source": [
    "add_back = {('вынести', 'вердикт'),\n",
    "            ('выплатить', 'дивиденд'),\n",
    "            ('выплатить', 'компенсация'),\n",
    "            ('выплатить', 'штраф'),\n",
    "            ('доказать', 'невиновность'),\n",
    "            ('доказать', 'незаконность'),\n",
    "            ('доказать', 'неправомерность'),\n",
    "            ('иметь', 'право'),\n",
    "            ('обжаловать', 'санкция'),\n",
    "            ('обязать', 'ответчик'),\n",
    "            ('оспорить', 'решение'),\n",
    "            ('подать', 'апелляция'),\n",
    "            ('подать', 'ходатайство'),\n",
    "            ('рассматривать', 'иск'),\n",
    "            ('рассмотреть', 'иск'),\n",
    "            ('удовлетворить', 'апелляция'),\n",
    "            ('удовлетворить', 'ходатайство')}"
   ]
  },
  {
   "cell_type": "markdown",
   "metadata": {},
   "source": [
    "**The reason they are absent from the dictionary is that they are mostly terminological and thus rare in general, but they are still collocations.**"
   ]
  },
  {
   "cell_type": "code",
   "execution_count": 254,
   "metadata": {},
   "outputs": [
    {
     "data": {
      "text/plain": [
       "52"
      ]
     },
     "execution_count": 254,
     "metadata": {},
     "output_type": "execute_result"
    }
   ],
   "source": [
    "GS = GS.union(add_back)\n",
    "len(GS)"
   ]
  },
  {
   "cell_type": "markdown",
   "metadata": {},
   "source": [
    "## 5. Compute the correlations"
   ]
  },
  {
   "cell_type": "code",
   "execution_count": 258,
   "metadata": {},
   "outputs": [
    {
     "data": {
      "text/plain": [
       "0.6666666666666667"
      ]
     },
     "execution_count": 258,
     "metadata": {},
     "output_type": "execute_result"
    }
   ],
   "source": [
    "rho, pval = spearmanr([1, 2, 3], [10, 8, 11])\n",
    "pval"
   ]
  },
  {
   "cell_type": "code",
   "execution_count": 263,
   "metadata": {},
   "outputs": [
    {
     "ename": "ValueError",
     "evalue": "all the input array dimensions for the concatenation axis must match exactly, but along dimension 0, the array at index 0 has size 3 and the array at index 1 has size 4",
     "output_type": "error",
     "traceback": [
      "\u001b[1;31m---------------------------------------------------------------------------\u001b[0m",
      "\u001b[1;31mValueError\u001b[0m                                Traceback (most recent call last)",
      "\u001b[1;32m<ipython-input-263-0e1f62181058>\u001b[0m in \u001b[0;36m<module>\u001b[1;34m\u001b[0m\n\u001b[1;32m----> 1\u001b[1;33m \u001b[0mrho\u001b[0m\u001b[1;33m,\u001b[0m \u001b[0mpval\u001b[0m \u001b[1;33m=\u001b[0m \u001b[0mspearmanr\u001b[0m\u001b[1;33m(\u001b[0m\u001b[1;33m[\u001b[0m\u001b[1;36m1\u001b[0m\u001b[1;33m,\u001b[0m \u001b[1;36m2\u001b[0m\u001b[1;33m,\u001b[0m \u001b[1;36m3\u001b[0m\u001b[1;33m]\u001b[0m\u001b[1;33m,\u001b[0m \u001b[1;33m[\u001b[0m\u001b[1;36m10\u001b[0m\u001b[1;33m,\u001b[0m \u001b[1;36m8\u001b[0m\u001b[1;33m,\u001b[0m \u001b[1;36m11\u001b[0m\u001b[1;33m,\u001b[0m \u001b[1;36m13\u001b[0m\u001b[1;33m]\u001b[0m\u001b[1;33m)\u001b[0m\u001b[1;33m\u001b[0m\u001b[1;33m\u001b[0m\u001b[0m\n\u001b[0m\u001b[0;32m      2\u001b[0m \u001b[0mpval\u001b[0m\u001b[1;33m\u001b[0m\u001b[1;33m\u001b[0m\u001b[0m\n",
      "\u001b[1;32mc:\\users\\lenovo\\appdata\\local\\programs\\python\\python36\\lib\\site-packages\\scipy\\stats\\stats.py\u001b[0m in \u001b[0;36mspearmanr\u001b[1;34m(a, b, axis, nan_policy)\u001b[0m\n\u001b[0;32m   3718\u001b[0m         \u001b[0mb\u001b[0m\u001b[1;33m,\u001b[0m \u001b[0m_\u001b[0m \u001b[1;33m=\u001b[0m \u001b[0m_chk_asarray\u001b[0m\u001b[1;33m(\u001b[0m\u001b[0mb\u001b[0m\u001b[1;33m,\u001b[0m \u001b[0maxis\u001b[0m\u001b[1;33m)\u001b[0m\u001b[1;33m\u001b[0m\u001b[1;33m\u001b[0m\u001b[0m\n\u001b[0;32m   3719\u001b[0m         \u001b[1;32mif\u001b[0m \u001b[0maxisout\u001b[0m \u001b[1;33m==\u001b[0m \u001b[1;36m0\u001b[0m\u001b[1;33m:\u001b[0m\u001b[1;33m\u001b[0m\u001b[1;33m\u001b[0m\u001b[0m\n\u001b[1;32m-> 3720\u001b[1;33m             \u001b[0ma\u001b[0m \u001b[1;33m=\u001b[0m \u001b[0mnp\u001b[0m\u001b[1;33m.\u001b[0m\u001b[0mcolumn_stack\u001b[0m\u001b[1;33m(\u001b[0m\u001b[1;33m(\u001b[0m\u001b[0ma\u001b[0m\u001b[1;33m,\u001b[0m \u001b[0mb\u001b[0m\u001b[1;33m)\u001b[0m\u001b[1;33m)\u001b[0m\u001b[1;33m\u001b[0m\u001b[1;33m\u001b[0m\u001b[0m\n\u001b[0m\u001b[0;32m   3721\u001b[0m         \u001b[1;32melse\u001b[0m\u001b[1;33m:\u001b[0m\u001b[1;33m\u001b[0m\u001b[1;33m\u001b[0m\u001b[0m\n\u001b[0;32m   3722\u001b[0m             \u001b[0ma\u001b[0m \u001b[1;33m=\u001b[0m \u001b[0mnp\u001b[0m\u001b[1;33m.\u001b[0m\u001b[0mrow_stack\u001b[0m\u001b[1;33m(\u001b[0m\u001b[1;33m(\u001b[0m\u001b[0ma\u001b[0m\u001b[1;33m,\u001b[0m \u001b[0mb\u001b[0m\u001b[1;33m)\u001b[0m\u001b[1;33m)\u001b[0m\u001b[1;33m\u001b[0m\u001b[1;33m\u001b[0m\u001b[0m\n",
      "\u001b[1;32m<__array_function__ internals>\u001b[0m in \u001b[0;36mcolumn_stack\u001b[1;34m(*args, **kwargs)\u001b[0m\n",
      "\u001b[1;32mc:\\users\\lenovo\\appdata\\local\\programs\\python\\python36\\lib\\site-packages\\numpy\\lib\\shape_base.py\u001b[0m in \u001b[0;36mcolumn_stack\u001b[1;34m(tup)\u001b[0m\n\u001b[0;32m    639\u001b[0m             \u001b[0marr\u001b[0m \u001b[1;33m=\u001b[0m \u001b[0marray\u001b[0m\u001b[1;33m(\u001b[0m\u001b[0marr\u001b[0m\u001b[1;33m,\u001b[0m \u001b[0mcopy\u001b[0m\u001b[1;33m=\u001b[0m\u001b[1;32mFalse\u001b[0m\u001b[1;33m,\u001b[0m \u001b[0msubok\u001b[0m\u001b[1;33m=\u001b[0m\u001b[1;32mTrue\u001b[0m\u001b[1;33m,\u001b[0m \u001b[0mndmin\u001b[0m\u001b[1;33m=\u001b[0m\u001b[1;36m2\u001b[0m\u001b[1;33m)\u001b[0m\u001b[1;33m.\u001b[0m\u001b[0mT\u001b[0m\u001b[1;33m\u001b[0m\u001b[1;33m\u001b[0m\u001b[0m\n\u001b[0;32m    640\u001b[0m         \u001b[0marrays\u001b[0m\u001b[1;33m.\u001b[0m\u001b[0mappend\u001b[0m\u001b[1;33m(\u001b[0m\u001b[0marr\u001b[0m\u001b[1;33m)\u001b[0m\u001b[1;33m\u001b[0m\u001b[1;33m\u001b[0m\u001b[0m\n\u001b[1;32m--> 641\u001b[1;33m     \u001b[1;32mreturn\u001b[0m \u001b[0m_nx\u001b[0m\u001b[1;33m.\u001b[0m\u001b[0mconcatenate\u001b[0m\u001b[1;33m(\u001b[0m\u001b[0marrays\u001b[0m\u001b[1;33m,\u001b[0m \u001b[1;36m1\u001b[0m\u001b[1;33m)\u001b[0m\u001b[1;33m\u001b[0m\u001b[1;33m\u001b[0m\u001b[0m\n\u001b[0m\u001b[0;32m    642\u001b[0m \u001b[1;33m\u001b[0m\u001b[0m\n\u001b[0;32m    643\u001b[0m \u001b[1;33m\u001b[0m\u001b[0m\n",
      "\u001b[1;32m<__array_function__ internals>\u001b[0m in \u001b[0;36mconcatenate\u001b[1;34m(*args, **kwargs)\u001b[0m\n",
      "\u001b[1;31mValueError\u001b[0m: all the input array dimensions for the concatenation axis must match exactly, but along dimension 0, the array at index 0 has size 3 and the array at index 1 has size 4"
     ]
    }
   ],
   "source": [
    "rho, pval = spearmanr([1, 2, 3], [10, 8, 11, 13])\n",
    "pval"
   ]
  },
  {
   "cell_type": "markdown",
   "metadata": {},
   "source": [
    "as one can see, datasets should have the same length"
   ]
  },
  {
   "cell_type": "markdown",
   "metadata": {},
   "source": [
    "**Let us only take 52 best from each metric and then compute speamans rank correlation**"
   ]
  },
  {
   "cell_type": "code",
   "execution_count": 262,
   "metadata": {},
   "outputs": [],
   "source": [
    "loglike_52best = finder_corpus.nbest(collocations.BigramAssocMeasures().likelihood_ratio, 52)\n",
    "dice_52best = finder_corpus.nbest(collocations.BigramAssocMeasures().dice, 52)\n",
    "pmi_52best = finder_corpus.nbest(collocations.BigramAssocMeasures().pmi, 52)\n",
    "gs_52 = list(GS)"
   ]
  },
  {
   "cell_type": "markdown",
   "metadata": {},
   "source": [
    "**But first, how do we order our Gold Standard??**"
   ]
  },
  {
   "cell_type": "code",
   "execution_count": null,
   "metadata": {},
   "outputs": [],
   "source": []
  },
  {
   "cell_type": "markdown",
   "metadata": {},
   "source": [
    "**log-likelyhood**"
   ]
  },
  {
   "cell_type": "code",
   "execution_count": null,
   "metadata": {},
   "outputs": [],
   "source": []
  }
 ],
 "metadata": {
  "kernelspec": {
   "display_name": "Python 3",
   "language": "python",
   "name": "python3"
  },
  "language_info": {
   "codemirror_mode": {
    "name": "ipython",
    "version": 3
   },
   "file_extension": ".py",
   "mimetype": "text/x-python",
   "name": "python",
   "nbconvert_exporter": "python",
   "pygments_lexer": "ipython3",
   "version": "3.6.7"
  }
 },
 "nbformat": 4,
 "nbformat_minor": 2
}
