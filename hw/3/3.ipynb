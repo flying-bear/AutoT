{
  "nbformat": 4,
  "nbformat_minor": 0,
  "metadata": {
    "colab": {
      "name": "hw3.ipynb",
      "provenance": [],
      "collapsed_sections": [],
      "include_colab_link": true
    },
    "kernelspec": {
      "name": "python3",
      "display_name": "Python 3"
    }
  },
  "cells": [
    {
      "cell_type": "markdown",
      "metadata": {
        "id": "view-in-github",
        "colab_type": "text"
      },
      "source": [
        "<a href=\"https://colab.research.google.com/github/flying-bear/AutoT/blob/master/hw3.ipynb\" target=\"_parent\"><img src=\"https://colab.research.google.com/assets/colab-badge.svg\" alt=\"Open In Colab\"/></a>"
      ]
    },
    {
      "cell_type": "markdown",
      "metadata": {
        "id": "NQqU-p9N_ANN",
        "colab_type": "text"
      },
      "source": [
        "# Домашнее задание 3. Разрешение семантической многозначности.\n",
        "\n",
        "При выполнении домашнего задания можно пользоваться тетрадками с семинаров.\n",
        "\n",
        "### Описание задания:\n",
        "\n",
        "Выберите одну из предложенных лексем: _свет_, _острый_, _лук_, _замок_.\n",
        "\n",
        "1. Выберите 2-3 значения лексемы по словарю (рекомендую использовать [МАС](http://feb-web.ru/feb/mas/mas-abc/), обязательно напишите, каким словарем пользовались).\n",
        "Для каждого значения придумайте несколько \"диагностических\" слов (которые сигнализируют о реализации одного из значений в контексте): \n",
        "например, _ключ_ — _вода_ / _дверь_. Подберите по НКРЯ контексты для выбранной лексемы, содержащие диагностические слова.\n",
        "Таким образом, получается размеченный тестсет.\n",
        "\n",
        "2. Для каждого контекста определите значение автоматически — с помощью AdaGram / ELMo на выбор.\n",
        "В случае с AdaGram вы сразу получаете какой-то номер значения, с ELMo — нужно кластеризовать.\n",
        "\n",
        "3. Возьмите словарные толкования для каждого значения и припишите ему значение автоматически\n",
        "тем же способом, что и в п.2.\n",
        "\n",
        "4. Придумайте и реализуйте способ соотнести толкования с значениями с помощью тезауруса (Wiki_ru_wordnet / РуТез). \n",
        "\n",
        "5. Оцените accuracy — в какой доле контекстов автоматически определенно значение для контекста совпадает \n",
        "с автоматически определенным значением толкования.\n",
        "\n",
        "### Критерии оценки:\n",
        "\n",
        "по 2 балла на каждый пункт\n",
        "\n",
        "### Формат сдачи задания:\n",
        "\n",
        "Jupyter-notebook на гитхабе.\n",
        "\n",
        "### Дедлайн: \n",
        "\n",
        "9 декабря 2019 10:00мск"
      ]
    },
    {
      "cell_type": "markdown",
      "metadata": {
        "id": "ZdSJSFVQ_DzM",
        "colab_type": "text"
      },
      "source": [
        "## 1. Я выбрала слово _замок_.\n",
        "МАС говорит о них следующее:\n",
        "1. **за́мок**\n",
        "  1. Дворец и крепость феодала. Средневековый замок. На скале видны развалины какого-то замка. Пушкин, Путешествие в Арзрум. || Большой помещичий дом затейливой архитектуры. С одной стороны Обломовка, с другой — княжеский замок, с широким раздольем барской жизни. И. Гончаров, Обломов.\n",
        "  2. Устар. Здание тюрьмы. — Ослабели [арестанты], сидевши в замке, расслабли, а их ведут в самое пекло, — осуждал кого-то приказчик, обращаясь к подошедшему Нехлюдову. Л. Толстой, Воскресение. Пальтецо его вместе с мелочью в карманах так и осталось в тюремном замке. Федин, Необыкновенное лето.\n",
        "2. **замо́к**\n",
        "  1. Устройство для запирания чего-л. ключом. Дверной замок. Висячий замок. Запереть на замок. || Приспособление для смыкания, соединения концов чего-л. (цепочки, браслета и пр.).\n",
        "  2. Воен. Приспособление для производства выстрела в некоторых видах огнестрельного оружия. Бойцы положили на траву, рядом с Пархоменко, пять пулеметов и замки с трех орудий. Вс. Иванов, Пархоменко.\n",
        "  3. Тех. Способ скрепления бревен, брусьев и т. п. частей деревянных конструкций.\n",
        "  4. Архит. Центральный камень в вершине свода, арки.\n",
        "\n",
        "Я полагаю, что лучше всего будут классифицироваться наиболее частотные значения, а именно 1.1 - 'дворец' и 2.1 - 'устройство'.\n",
        "\n",
        "Диагностические слова для значения 1.1: неприступный, король, фамильный\n",
        "\n",
        "Диагностические слова для значения 2.1: ключ, дверь, щёлкнуть"
      ]
    },
    {
      "cell_type": "code",
      "metadata": {
        "id": "iuW1gMT4P3Eu",
        "colab_type": "code",
        "colab": {}
      },
      "source": [
        "import pandas as pd\n",
        "import warnings\n",
        "warnings.filterwarnings('ignore')"
      ],
      "execution_count": 0,
      "outputs": []
    },
    {
      "cell_type": "markdown",
      "metadata": {
        "id": "IMnccBNgZhwa",
        "colab_type": "text"
      },
      "source": [
        "### Скачаем размеченный датасет и положим в пандас"
      ]
    },
    {
      "cell_type": "code",
      "metadata": {
        "id": "62ziMxQjM8oQ",
        "colab_type": "code",
        "outputId": "ad382009-9f79-474a-a48a-ca40ca21ceed",
        "colab": {
          "base_uri": "https://localhost:8080/",
          "height": 202
        }
      },
      "source": [
        "!wget https://raw.githubusercontent.com/flying-bear/AutoT/master/hw/3/homonyms.txt"
      ],
      "execution_count": 11,
      "outputs": [
        {
          "output_type": "stream",
          "text": [
            "--2019-12-07 22:06:37--  https://raw.githubusercontent.com/flying-bear/AutoT/master/hw/3/homonyms.txt\n",
            "Resolving raw.githubusercontent.com (raw.githubusercontent.com)... 151.101.0.133, 151.101.64.133, 151.101.128.133, ...\n",
            "Connecting to raw.githubusercontent.com (raw.githubusercontent.com)|151.101.0.133|:443... connected.\n",
            "HTTP request sent, awaiting response... 200 OK\n",
            "Length: 12331 (12K) [text/plain]\n",
            "Saving to: ‘homonyms.txt’\n",
            "\n",
            "\rhomonyms.txt          0%[                    ]       0  --.-KB/s               \rhomonyms.txt        100%[===================>]  12.04K  --.-KB/s    in 0s      \n",
            "\n",
            "2019-12-07 22:06:37 (97.4 MB/s) - ‘homonyms.txt’ saved [12331/12331]\n",
            "\n"
          ],
          "name": "stdout"
        }
      ]
    },
    {
      "cell_type": "code",
      "metadata": {
        "id": "oUiTrkmsOO2t",
        "colab_type": "code",
        "colab": {}
      },
      "source": [
        "with open('homonyms.txt', 'r', encoding='utf-8') as f:\n",
        "  lines = [line.strip().split('\\t') for line in f.readlines()]"
      ],
      "execution_count": 0,
      "outputs": []
    },
    {
      "cell_type": "code",
      "metadata": {
        "id": "fIF2XkCyRj1W",
        "colab_type": "code",
        "outputId": "ac2f74cc-f47c-40f1-8b58-32da647d384a",
        "colab": {
          "base_uri": "https://localhost:8080/",
          "height": 195
        }
      },
      "source": [
        "df = pd.DataFrame(lines, columns = ['sense', 'text']) \n",
        "df['sense'] = df['sense'].apply(int)\n",
        "df['text'] = df['text'].apply(lambda s: s.strip())\n",
        "df.head()"
      ],
      "execution_count": 84,
      "outputs": [
        {
          "output_type": "execute_result",
          "data": {
            "text/html": [
              "<div>\n",
              "<style scoped>\n",
              "    .dataframe tbody tr th:only-of-type {\n",
              "        vertical-align: middle;\n",
              "    }\n",
              "\n",
              "    .dataframe tbody tr th {\n",
              "        vertical-align: top;\n",
              "    }\n",
              "\n",
              "    .dataframe thead th {\n",
              "        text-align: right;\n",
              "    }\n",
              "</style>\n",
              "<table border=\"1\" class=\"dataframe\">\n",
              "  <thead>\n",
              "    <tr style=\"text-align: right;\">\n",
              "      <th></th>\n",
              "      <th>sense</th>\n",
              "      <th>text</th>\n",
              "    </tr>\n",
              "  </thead>\n",
              "  <tbody>\n",
              "    <tr>\n",
              "      <th>0</th>\n",
              "      <td>2</td>\n",
              "      <td>В этот момент щелкнул замок и дверь чуть приот...</td>\n",
              "    </tr>\n",
              "    <tr>\n",
              "      <th>1</th>\n",
              "      <td>2</td>\n",
              "      <td>Мы поднялись, и я позвонил в дверь. Щелкнул за...</td>\n",
              "    </tr>\n",
              "    <tr>\n",
              "      <th>2</th>\n",
              "      <td>2</td>\n",
              "      <td>Андрей закрыл дверь, и никелированный замок гр...</td>\n",
              "    </tr>\n",
              "    <tr>\n",
              "      <th>3</th>\n",
              "      <td>2</td>\n",
              "      <td>Я зашёл в маленькую грязную комнату с лавкой, ...</td>\n",
              "    </tr>\n",
              "    <tr>\n",
              "      <th>4</th>\n",
              "      <td>2</td>\n",
              "      <td>Дверь мягко щелкнула и ответила маслянистыми п...</td>\n",
              "    </tr>\n",
              "  </tbody>\n",
              "</table>\n",
              "</div>"
            ],
            "text/plain": [
              "   sense                                               text\n",
              "0      2  В этот момент щелкнул замок и дверь чуть приот...\n",
              "1      2  Мы поднялись, и я позвонил в дверь. Щелкнул за...\n",
              "2      2  Андрей закрыл дверь, и никелированный замок гр...\n",
              "3      2  Я зашёл в маленькую грязную комнату с лавкой, ...\n",
              "4      2  Дверь мягко щелкнула и ответила маслянистыми п..."
            ]
          },
          "metadata": {
            "tags": []
          },
          "execution_count": 84
        }
      ]
    },
    {
      "cell_type": "markdown",
      "metadata": {
        "id": "0bilE18wQsEo",
        "colab_type": "text"
      },
      "source": [
        "##2. Я выбрала Адаграм"
      ]
    },
    {
      "cell_type": "markdown",
      "metadata": {
        "id": "F8TBVI4CYhnl",
        "colab_type": "text"
      },
      "source": [
        "### Установим его"
      ]
    },
    {
      "cell_type": "code",
      "metadata": {
        "id": "DFeTxMhsYFm6",
        "colab_type": "code",
        "colab": {
          "base_uri": "https://localhost:8080/",
          "height": 202
        },
        "outputId": "fa289bc6-3212-4167-a594-ffd79e1d7670"
      },
      "source": [
        "!wget https://s3.amazonaws.com/kostia.lopuhin/all.a010.p10.d300.w5.m100.nonorm.slim.joblib"
      ],
      "execution_count": 1,
      "outputs": [
        {
          "output_type": "stream",
          "text": [
            "--2019-12-07 21:59:56--  https://s3.amazonaws.com/kostia.lopuhin/all.a010.p10.d300.w5.m100.nonorm.slim.joblib\n",
            "Resolving s3.amazonaws.com (s3.amazonaws.com)... 52.217.42.78\n",
            "Connecting to s3.amazonaws.com (s3.amazonaws.com)|52.217.42.78|:443... connected.\n",
            "HTTP request sent, awaiting response... 200 OK\n",
            "Length: 1462416741 (1.4G) [application/x-www-form-urlencoded]\n",
            "Saving to: ‘all.a010.p10.d300.w5.m100.nonorm.slim.joblib’\n",
            "\n",
            "all.a010.p10.d300.w 100%[===================>]   1.36G  16.3MB/s    in 87s     \n",
            "\n",
            "2019-12-07 22:01:23 (16.0 MB/s) - ‘all.a010.p10.d300.w5.m100.nonorm.slim.joblib’ saved [1462416741/1462416741]\n",
            "\n"
          ],
          "name": "stdout"
        }
      ]
    },
    {
      "cell_type": "code",
      "metadata": {
        "id": "LTgcLGJ1YH3R",
        "colab_type": "code",
        "colab": {
          "base_uri": "https://localhost:8080/",
          "height": 235
        },
        "outputId": "8809067b-01e9-41da-d047-908b2bf635fc"
      },
      "source": [
        "!pip install git+https://github.com/lopuhin/python-adagram.git"
      ],
      "execution_count": 3,
      "outputs": [
        {
          "output_type": "stream",
          "text": [
            "Collecting git+https://github.com/lopuhin/python-adagram.git\n",
            "  Cloning https://github.com/lopuhin/python-adagram.git to /tmp/pip-req-build-m1xvfrrs\n",
            "  Running command git clone -q https://github.com/lopuhin/python-adagram.git /tmp/pip-req-build-m1xvfrrs\n",
            "Requirement already satisfied (use --upgrade to upgrade): adagram==0.0.1 from git+https://github.com/lopuhin/python-adagram.git in /usr/local/lib/python3.6/dist-packages\n",
            "Requirement already satisfied: cython in /usr/local/lib/python3.6/dist-packages (from adagram==0.0.1) (0.29.14)\n",
            "Requirement already satisfied: joblib in /usr/local/lib/python3.6/dist-packages (from adagram==0.0.1) (0.14.0)\n",
            "Requirement already satisfied: numpy>=1.9 in /usr/local/lib/python3.6/dist-packages (from adagram==0.0.1) (1.17.4)\n",
            "Requirement already satisfied: six in /usr/local/lib/python3.6/dist-packages (from adagram==0.0.1) (1.12.0)\n",
            "Building wheels for collected packages: adagram\n",
            "  Building wheel for adagram (setup.py) ... \u001b[?25l\u001b[?25hdone\n",
            "  Created wheel for adagram: filename=adagram-0.0.1-cp36-cp36m-linux_x86_64.whl size=464608 sha256=0f23aadd7adc826bb099e6b4f896512f97d00c41c9482d8ced27096ea9f947c0\n",
            "  Stored in directory: /tmp/pip-ephem-wheel-cache-smfngs_j/wheels/11/0f/46/f5df96670df8f7973b4c2311ffc9b02e435a7bd3207f992c4d\n",
            "Successfully built adagram\n"
          ],
          "name": "stdout"
        }
      ]
    },
    {
      "cell_type": "markdown",
      "metadata": {
        "id": "5Xhob84TY19h",
        "colab_type": "text"
      },
      "source": [
        "### Поставим всё остальное"
      ]
    },
    {
      "cell_type": "code",
      "metadata": {
        "id": "FMzIS7IwPCe7",
        "colab_type": "code",
        "outputId": "1989758f-7787-422c-bdad-79ded6990b67",
        "colab": {
          "base_uri": "https://localhost:8080/",
          "height": 118
        }
      },
      "source": [
        "!pip install pymystem3==0.1.10"
      ],
      "execution_count": 2,
      "outputs": [
        {
          "output_type": "stream",
          "text": [
            "Requirement already satisfied: pymystem3==0.1.10 in /usr/local/lib/python3.6/dist-packages (0.1.10)\n",
            "Requirement already satisfied: requests in /usr/local/lib/python3.6/dist-packages (from pymystem3==0.1.10) (2.21.0)\n",
            "Requirement already satisfied: certifi>=2017.4.17 in /usr/local/lib/python3.6/dist-packages (from requests->pymystem3==0.1.10) (2019.11.28)\n",
            "Requirement already satisfied: idna<2.9,>=2.5 in /usr/local/lib/python3.6/dist-packages (from requests->pymystem3==0.1.10) (2.8)\n",
            "Requirement already satisfied: urllib3<1.25,>=1.21.1 in /usr/local/lib/python3.6/dist-packages (from requests->pymystem3==0.1.10) (1.24.3)\n",
            "Requirement already satisfied: chardet<3.1.0,>=3.0.2 in /usr/local/lib/python3.6/dist-packages (from requests->pymystem3==0.1.10) (3.0.4)\n"
          ],
          "name": "stdout"
        }
      ]
    },
    {
      "cell_type": "code",
      "metadata": {
        "id": "BB9Ks-J9UvIn",
        "colab_type": "code",
        "outputId": "441423fe-f210-48d2-a813-680814a4cd0d",
        "colab": {
          "base_uri": "https://localhost:8080/",
          "height": 34
        }
      },
      "source": [
        "!pip install wiki_ru_wordnet"
      ],
      "execution_count": 14,
      "outputs": [
        {
          "output_type": "stream",
          "text": [
            "Requirement already satisfied: wiki_ru_wordnet in /usr/local/lib/python3.6/dist-packages (1.0.3)\n"
          ],
          "name": "stdout"
        }
      ]
    },
    {
      "cell_type": "markdown",
      "metadata": {
        "id": "qe3GKr_lZM_k",
        "colab_type": "text"
      },
      "source": [
        "### Imports"
      ]
    },
    {
      "cell_type": "code",
      "metadata": {
        "id": "9E4jr-ERZDcB",
        "colab_type": "code",
        "colab": {}
      },
      "source": [
        "import adagram\n",
        "import numpy as np\n",
        "import re\n",
        "\n",
        "from nltk.corpus import stopwords\n",
        "from pymystem3 import Mystem"
      ],
      "execution_count": 0,
      "outputs": []
    },
    {
      "cell_type": "markdown",
      "metadata": {
        "id": "7V4OPuogZVOK",
        "colab_type": "text"
      },
      "source": [
        "### Инициализация"
      ]
    },
    {
      "cell_type": "code",
      "metadata": {
        "id": "NsjqOw3nRAFg",
        "colab_type": "code",
        "colab": {}
      },
      "source": [
        "mystem = Mystem()"
      ],
      "execution_count": 0,
      "outputs": []
    },
    {
      "cell_type": "code",
      "metadata": {
        "id": "zHrba2WyZZ-a",
        "colab_type": "code",
        "colab": {}
      },
      "source": [
        "vm = adagram.VectorModel.load('all.a010.p10.d300.w5.m100.nonorm.slim.joblib')"
      ],
      "execution_count": 0,
      "outputs": []
    },
    {
      "cell_type": "code",
      "metadata": {
        "id": "5zXgGlvpQqw7",
        "colab_type": "code",
        "colab": {}
      },
      "source": [
        "def preprocess(text): \n",
        "  \"\"\"\n",
        "  cleans a text of punctuation and case\n",
        "  \n",
        "  :param text: str to be cleaned\n",
        "  :return: str in lowercase and stripped of punctuation\n",
        "  \"\"\"\n",
        "  low = text.lower().strip()\n",
        "  stripped = re.sub('!|\\.|,|#|$|%|\\\\|\\'|\\(|\\)|-|\\+|\\*|/|\\:|;|<|>|=|\\?|\\[|\\]|@|^|_|`|{|}|~', '', low)\n",
        "  return stripped\n",
        "\n",
        "def lemmatize(text):\n",
        "  \"\"\"\n",
        "  preprocesses and lemmatizes a string in mystem\n",
        "\n",
        "  :param text: str to be lemmatized\n",
        "  :return: list of str, lemmas\n",
        "  \"\"\"\n",
        "  return mystem.lemmatize(preprocess(text))"
      ],
      "execution_count": 0,
      "outputs": []
    },
    {
      "cell_type": "markdown",
      "metadata": {
        "id": "VYUFsXwudOLq",
        "colab_type": "text"
      },
      "source": [
        "### Посмотрим на значения слова замок в Адаграме"
      ]
    },
    {
      "cell_type": "code",
      "metadata": {
        "id": "RIm0DV37cqI_",
        "colab_type": "code",
        "colab": {
          "base_uri": "https://localhost:8080/",
          "height": 171
        },
        "outputId": "49a710fb-f74c-42c0-e438-7854b3dd6916"
      },
      "source": [
        "for i, prob in vm.word_sense_probs('замок'):\n",
        "  print(i+1)\n",
        "  print(*vm.sense_neighbors('замок', i))"
      ],
      "execution_count": 53,
      "outputs": [
        {
          "output_type": "stream",
          "text": [
            "1\n",
            "('орденский', 0, 0.6297175) ('монсегюр', 0, 0.615526) ('аббатство', 0, 0.6004314) ('дворец', 2, 0.5968682) ('сеньория', 0, 0.59168553) ('герцог', 2, 0.5900553) ('инстербург', 0, 0.57428056) ('каркассон', 0, 0.57125235) ('резиденция', 0, 0.5694655) ('амбуаз', 0, 0.56807244)\n",
            "2\n",
            "('задвижка', 0, 0.7730665) ('запор', 1, 0.74998415) ('засов', 1, 0.73436505) ('ключ', 0, 0.7206449) ('отмыкать', 0, 0.7102439) ('шпингалет', 0, 0.7052061) ('щеколда', 0, 0.70305103) ('защелка', 1, 0.70179313) ('запираться', 0, 0.696132) ('дверь', 6, 0.69068426)\n",
            "3\n",
            "('крепость', 1, 0.70243007) ('башня', 1, 0.6900965) ('бастион', 2, 0.66138613) ('средневековый', 1, 0.6602798) ('величественный', 1, 0.66022444) ('донжон', 0, 0.62887174) ('цитадель', 0, 0.62760615) ('башня', 3, 0.60489523) ('здание', 3, 0.6001993) ('крепостной', 0, 0.596294)\n",
            "4\n",
            "('крепость', 3, 0.60584474) ('дворец', 1, 0.5704742) ('башня', 5, 0.5693793) ('пещера', 0, 0.5673409) ('форт', 2, 0.5618624) ('холд', 1, 0.56155473) ('дом', 2, 0.5479651) ('подземелье', 0, 0.5378049) ('королевский', 2, 0.5256898) ('ругна', 0, 0.5172116)\n"
          ],
          "name": "stdout"
        }
      ]
    },
    {
      "cell_type": "markdown",
      "metadata": {
        "id": "nMoq8h5idW9E",
        "colab_type": "text"
      },
      "source": [
        "Выглядит так, будто значения 1, 3 и 4 относятся к нашему значению 1 ('дворец'), а значение 2 - к нашему значению 2 ('устройство'). Будем иметь это ввиду, определяя точность позднее. (Сравним!)"
      ]
    },
    {
      "cell_type": "code",
      "metadata": {
        "id": "t0vgKkIgdzM5",
        "colab_type": "code",
        "colab": {}
      },
      "source": [
        "senses = {1: {1, 3, 4}, \n",
        "          2 : {2}}"
      ],
      "execution_count": 0,
      "outputs": []
    },
    {
      "cell_type": "markdown",
      "metadata": {
        "id": "NWifg8qzdZT_",
        "colab_type": "text"
      },
      "source": [
        "### Приступим к разрешению омонимии"
      ]
    },
    {
      "cell_type": "code",
      "metadata": {
        "id": "c27uGRtRanZJ",
        "colab_type": "code",
        "colab": {}
      },
      "source": [
        "def disambiguate(model, word, context):\n",
        "  \"\"\"\n",
        "  disambiguates a word providing a number that\n",
        "  corresponds to the meaning of a word in a context using adagram\n",
        "\n",
        "  :param model: adagram model, pretrained\n",
        "  :param word: str, word to be disambiguated\n",
        "  :param contaext: str, context of the word\n",
        "  :return: int, number corresponding to the meaning of the word in the context\n",
        "  \"\"\"\n",
        "  word, _ = lemmatize(word)\n",
        "  probs = model.disambiguate(word, lemmatize(context))\n",
        "  return 1 + probs.argmax()"
      ],
      "execution_count": 0,
      "outputs": []
    },
    {
      "cell_type": "code",
      "metadata": {
        "id": "JeXrRgTheSAp",
        "colab_type": "code",
        "colab": {
          "base_uri": "https://localhost:8080/",
          "height": 195
        },
        "outputId": "905ad3c9-e57a-4dda-a5b5-68e18b90b578"
      },
      "source": [
        "df['predict_sense_id'] = [disambiguate(vm, 'замок', context) for context in df['text']]\n",
        "df.head()"
      ],
      "execution_count": 85,
      "outputs": [
        {
          "output_type": "execute_result",
          "data": {
            "text/html": [
              "<div>\n",
              "<style scoped>\n",
              "    .dataframe tbody tr th:only-of-type {\n",
              "        vertical-align: middle;\n",
              "    }\n",
              "\n",
              "    .dataframe tbody tr th {\n",
              "        vertical-align: top;\n",
              "    }\n",
              "\n",
              "    .dataframe thead th {\n",
              "        text-align: right;\n",
              "    }\n",
              "</style>\n",
              "<table border=\"1\" class=\"dataframe\">\n",
              "  <thead>\n",
              "    <tr style=\"text-align: right;\">\n",
              "      <th></th>\n",
              "      <th>sense</th>\n",
              "      <th>text</th>\n",
              "      <th>predict_sense_id</th>\n",
              "    </tr>\n",
              "  </thead>\n",
              "  <tbody>\n",
              "    <tr>\n",
              "      <th>0</th>\n",
              "      <td>2</td>\n",
              "      <td>В этот момент щелкнул замок и дверь чуть приот...</td>\n",
              "      <td>2</td>\n",
              "    </tr>\n",
              "    <tr>\n",
              "      <th>1</th>\n",
              "      <td>2</td>\n",
              "      <td>Мы поднялись, и я позвонил в дверь. Щелкнул за...</td>\n",
              "      <td>2</td>\n",
              "    </tr>\n",
              "    <tr>\n",
              "      <th>2</th>\n",
              "      <td>2</td>\n",
              "      <td>Андрей закрыл дверь, и никелированный замок гр...</td>\n",
              "      <td>2</td>\n",
              "    </tr>\n",
              "    <tr>\n",
              "      <th>3</th>\n",
              "      <td>2</td>\n",
              "      <td>Я зашёл в маленькую грязную комнату с лавкой, ...</td>\n",
              "      <td>2</td>\n",
              "    </tr>\n",
              "    <tr>\n",
              "      <th>4</th>\n",
              "      <td>2</td>\n",
              "      <td>Дверь мягко щелкнула и ответила маслянистыми п...</td>\n",
              "      <td>2</td>\n",
              "    </tr>\n",
              "  </tbody>\n",
              "</table>\n",
              "</div>"
            ],
            "text/plain": [
              "   sense                                               text  predict_sense_id\n",
              "0      2  В этот момент щелкнул замок и дверь чуть приот...                 2\n",
              "1      2  Мы поднялись, и я позвонил в дверь. Щелкнул за...                 2\n",
              "2      2  Андрей закрыл дверь, и никелированный замок гр...                 2\n",
              "3      2  Я зашёл в маленькую грязную комнату с лавкой, ...                 2\n",
              "4      2  Дверь мягко щелкнула и ответила маслянистыми п...                 2"
            ]
          },
          "metadata": {
            "tags": []
          },
          "execution_count": 85
        }
      ]
    },
    {
      "cell_type": "markdown",
      "metadata": {
        "id": "OKmv0_CmfNaW",
        "colab_type": "text"
      },
      "source": [
        "## 3. Припишем номера значений словарным толкованиям"
      ]
    },
    {
      "cell_type": "markdown",
      "metadata": {
        "id": "6RR78Jbzf-Xn",
        "colab_type": "text"
      },
      "source": [
        "### Значение 1 'дворец'"
      ]
    },
    {
      "cell_type": "code",
      "metadata": {
        "id": "Zb1hNd4MfNDX",
        "colab_type": "code",
        "colab": {
          "base_uri": "https://localhost:8080/",
          "height": 34
        },
        "outputId": "8573e108-4726-4eae-d44d-e9c405939974"
      },
      "source": [
        "def1 = 'Дворец и крепость феодала. Средневековый замок. На скале видны развалины какого-то замка. Пушкин, Путешествие в Арзрум. || Большой помещичий дом затейливой архитектуры. С одной стороны Обломовка, с другой — княжеский замок, с широким раздольем барской жизни. И. Гончаров, Обломов.'\n",
        "sense_def1 = disambiguate(vm, 'замок', def1)\n",
        "sense_def1"
      ],
      "execution_count": 57,
      "outputs": [
        {
          "output_type": "execute_result",
          "data": {
            "text/plain": [
              "3"
            ]
          },
          "metadata": {
            "tags": []
          },
          "execution_count": 57
        }
      ]
    },
    {
      "cell_type": "markdown",
      "metadata": {
        "id": "n5DZ8-QugDzW",
        "colab_type": "text"
      },
      "source": [
        "### Значение 2 'устройство'"
      ]
    },
    {
      "cell_type": "code",
      "metadata": {
        "id": "cDGSxQNYfLss",
        "colab_type": "code",
        "colab": {
          "base_uri": "https://localhost:8080/",
          "height": 34
        },
        "outputId": "a3b63637-1dac-4d91-80cf-49655d98eb99"
      },
      "source": [
        "def2 = 'Устройство для запирания чего-л. ключом. Дверной замок. Висячий замок. Запереть на замок. || Приспособление для смыкания, соединения концов чего-л. (цепочки, браслета и пр.).'\n",
        "sense_def2 = disambiguate(vm, 'замок', def2)\n",
        "sense_def2"
      ],
      "execution_count": 58,
      "outputs": [
        {
          "output_type": "execute_result",
          "data": {
            "text/plain": [
              "2"
            ]
          },
          "metadata": {
            "tags": []
          },
          "execution_count": 58
        }
      ]
    },
    {
      "cell_type": "markdown",
      "metadata": {
        "id": "FxVlAdU6ivlS",
        "colab_type": "text"
      },
      "source": [
        "### Запишем эти числа в датасет"
      ]
    },
    {
      "cell_type": "code",
      "metadata": {
        "id": "FqJ5Noz9iuuK",
        "colab_type": "code",
        "colab": {
          "base_uri": "https://localhost:8080/",
          "height": 195
        },
        "outputId": "6c845900-997a-4057-ed74-4b9092dc9b4d"
      },
      "source": [
        "df['auto_sense'] = df['sense'].apply(lambda x: 2 if x == 2 else 3)\n",
        "df.head()"
      ],
      "execution_count": 86,
      "outputs": [
        {
          "output_type": "execute_result",
          "data": {
            "text/html": [
              "<div>\n",
              "<style scoped>\n",
              "    .dataframe tbody tr th:only-of-type {\n",
              "        vertical-align: middle;\n",
              "    }\n",
              "\n",
              "    .dataframe tbody tr th {\n",
              "        vertical-align: top;\n",
              "    }\n",
              "\n",
              "    .dataframe thead th {\n",
              "        text-align: right;\n",
              "    }\n",
              "</style>\n",
              "<table border=\"1\" class=\"dataframe\">\n",
              "  <thead>\n",
              "    <tr style=\"text-align: right;\">\n",
              "      <th></th>\n",
              "      <th>sense</th>\n",
              "      <th>text</th>\n",
              "      <th>predict_sense_id</th>\n",
              "      <th>auto_sense</th>\n",
              "    </tr>\n",
              "  </thead>\n",
              "  <tbody>\n",
              "    <tr>\n",
              "      <th>0</th>\n",
              "      <td>2</td>\n",
              "      <td>В этот момент щелкнул замок и дверь чуть приот...</td>\n",
              "      <td>2</td>\n",
              "      <td>2</td>\n",
              "    </tr>\n",
              "    <tr>\n",
              "      <th>1</th>\n",
              "      <td>2</td>\n",
              "      <td>Мы поднялись, и я позвонил в дверь. Щелкнул за...</td>\n",
              "      <td>2</td>\n",
              "      <td>2</td>\n",
              "    </tr>\n",
              "    <tr>\n",
              "      <th>2</th>\n",
              "      <td>2</td>\n",
              "      <td>Андрей закрыл дверь, и никелированный замок гр...</td>\n",
              "      <td>2</td>\n",
              "      <td>2</td>\n",
              "    </tr>\n",
              "    <tr>\n",
              "      <th>3</th>\n",
              "      <td>2</td>\n",
              "      <td>Я зашёл в маленькую грязную комнату с лавкой, ...</td>\n",
              "      <td>2</td>\n",
              "      <td>2</td>\n",
              "    </tr>\n",
              "    <tr>\n",
              "      <th>4</th>\n",
              "      <td>2</td>\n",
              "      <td>Дверь мягко щелкнула и ответила маслянистыми п...</td>\n",
              "      <td>2</td>\n",
              "      <td>2</td>\n",
              "    </tr>\n",
              "  </tbody>\n",
              "</table>\n",
              "</div>"
            ],
            "text/plain": [
              "   sense  ... auto_sense\n",
              "0      2  ...          2\n",
              "1      2  ...          2\n",
              "2      2  ...          2\n",
              "3      2  ...          2\n",
              "4      2  ...          2\n",
              "\n",
              "[5 rows x 4 columns]"
            ]
          },
          "metadata": {
            "tags": []
          },
          "execution_count": 86
        }
      ]
    },
    {
      "cell_type": "markdown",
      "metadata": {
        "id": "6AGd-J96gYxc",
        "colab_type": "text"
      },
      "source": [
        "## 4. Соотнесём значения и толкования с помощью тезауруса"
      ]
    },
    {
      "cell_type": "markdown",
      "metadata": {
        "id": "gpezHl0pibFj",
        "colab_type": "text"
      },
      "source": [
        "## 5. Подсчитаем точность"
      ]
    },
    {
      "cell_type": "code",
      "metadata": {
        "id": "hkWyqaOaiZS8",
        "colab_type": "code",
        "colab": {
          "base_uri": "https://localhost:8080/",
          "height": 195
        },
        "outputId": "c647d01f-3a8a-4f7b-b947-334085ddae9f"
      },
      "source": [
        "compare_strict = lambda dataframe: 1 if dataframe['auto_sense'] == dataframe['predict_sense_id'] else 0\n",
        "df['compare_strict'] = df.apply(compare_strict, axis=1)\n",
        "compare = lambda dataframe: 1 if  dataframe['predict_sense_id'] in senses[dataframe['sense']] else 0\n",
        "df['compare'] = df.apply(compare, axis=1)\n",
        "df.tail()"
      ],
      "execution_count": 87,
      "outputs": [
        {
          "output_type": "execute_result",
          "data": {
            "text/html": [
              "<div>\n",
              "<style scoped>\n",
              "    .dataframe tbody tr th:only-of-type {\n",
              "        vertical-align: middle;\n",
              "    }\n",
              "\n",
              "    .dataframe tbody tr th {\n",
              "        vertical-align: top;\n",
              "    }\n",
              "\n",
              "    .dataframe thead th {\n",
              "        text-align: right;\n",
              "    }\n",
              "</style>\n",
              "<table border=\"1\" class=\"dataframe\">\n",
              "  <thead>\n",
              "    <tr style=\"text-align: right;\">\n",
              "      <th></th>\n",
              "      <th>sense</th>\n",
              "      <th>text</th>\n",
              "      <th>predict_sense_id</th>\n",
              "      <th>auto_sense</th>\n",
              "      <th>compare_strict</th>\n",
              "      <th>compare</th>\n",
              "    </tr>\n",
              "  </thead>\n",
              "  <tbody>\n",
              "    <tr>\n",
              "      <th>55</th>\n",
              "      <td>1</td>\n",
              "      <td>К примеру, привидение, обитающее в фамильном з...</td>\n",
              "      <td>1</td>\n",
              "      <td>3</td>\n",
              "      <td>0</td>\n",
              "      <td>1</td>\n",
              "    </tr>\n",
              "    <tr>\n",
              "      <th>56</th>\n",
              "      <td>1</td>\n",
              "      <td>Удивительно, но только пару лет назад Ольга см...</td>\n",
              "      <td>1</td>\n",
              "      <td>3</td>\n",
              "      <td>0</td>\n",
              "      <td>1</td>\n",
              "    </tr>\n",
              "    <tr>\n",
              "      <th>57</th>\n",
              "      <td>1</td>\n",
              "      <td>Он чокнулся с Астросом и Зарецким, поклонился ...</td>\n",
              "      <td>4</td>\n",
              "      <td>3</td>\n",
              "      <td>0</td>\n",
              "      <td>1</td>\n",
              "    </tr>\n",
              "    <tr>\n",
              "      <th>58</th>\n",
              "      <td>1</td>\n",
              "      <td>Я обнаружила в себе совершенно не свойственный...</td>\n",
              "      <td>4</td>\n",
              "      <td>3</td>\n",
              "      <td>0</td>\n",
              "      <td>1</td>\n",
              "    </tr>\n",
              "    <tr>\n",
              "      <th>59</th>\n",
              "      <td>1</td>\n",
              "      <td>Продав все свои должности, он удалился в свой ...</td>\n",
              "      <td>1</td>\n",
              "      <td>3</td>\n",
              "      <td>0</td>\n",
              "      <td>1</td>\n",
              "    </tr>\n",
              "  </tbody>\n",
              "</table>\n",
              "</div>"
            ],
            "text/plain": [
              "    sense  ... compare\n",
              "55      1  ...       1\n",
              "56      1  ...       1\n",
              "57      1  ...       1\n",
              "58      1  ...       1\n",
              "59      1  ...       1\n",
              "\n",
              "[5 rows x 6 columns]"
            ]
          },
          "metadata": {
            "tags": []
          },
          "execution_count": 87
        }
      ]
    },
    {
      "cell_type": "markdown",
      "metadata": {
        "id": "eDwuWfDelRlX",
        "colab_type": "text"
      },
      "source": [
        "Если считать строго, то значение, определённое автоматически неверно, однако значения 1, 3 и 4 в адаграме, судя по ближайшим к ним словам, очень близки, и compare отражает это."
      ]
    },
    {
      "cell_type": "code",
      "metadata": {
        "id": "5svdEQSClQxK",
        "colab_type": "code",
        "colab": {
          "base_uri": "https://localhost:8080/",
          "height": 50
        },
        "outputId": "f7ffb016-4987-4719-977d-22620482a60a"
      },
      "source": [
        "accuracy_strict = np.mean(df['compare_strict'])\n",
        "accuracy = np.mean(df['compare'])\n",
        "print(f'strict:\\t\\t{accuracy_strict}\\nnon-strict:\\t{accuracy}')"
      ],
      "execution_count": 92,
      "outputs": [
        {
          "output_type": "stream",
          "text": [
            "strict:\t\t0.55\n",
            "non-strict:\t0.9\n"
          ],
          "name": "stdout"
        }
      ]
    }
  ]
}
